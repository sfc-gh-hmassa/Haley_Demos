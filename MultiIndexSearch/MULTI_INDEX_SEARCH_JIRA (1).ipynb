{
 "metadata": {
  "kernelspec": {
   "display_name": "Streamlit Notebook",
   "name": "streamlit"
  },
  "lastEditStatus": {
   "notebookId": "4s3wmhwdgcy2zc4yvdpc",
   "authorId": "3366391852320",
   "authorName": "HMASSA",
   "authorEmail": "haley.massa@snowflake.com",
   "sessionId": "0cecc621-5777-476d-991a-91bb77493325",
   "lastEditTime": 1761763085929
  }
 },
 "nbformat_minor": 5,
 "nbformat": 4,
 "cells": [
  {
   "cell_type": "code",
   "id": "3775908f-ca36-4846-8f38-5adca39217f2",
   "metadata": {
    "language": "python",
    "name": "cell1"
   },
   "source": "# Import python packages\nimport streamlit as st\nimport pandas as pd\n\n# We can also use Snowpark for our analyses!\nfrom snowflake.snowpark.context import get_active_session\nsession = get_active_session()\n",
   "execution_count": null,
   "outputs": []
  },
  {
   "cell_type": "markdown",
   "id": "79e01cdc-87c4-4af4-ba6b-5e6778077447",
   "metadata": {
    "name": "cell14",
    "collapsed": false
   },
   "source": "# Building a Multi-Index Search Service \n\nIn this notebook, we are going to look at building a multi-index Cortex Search service. \n\n**Use Case: JIRA Ticket Similarity** --> We will be looking at a dataset consisting of Jira tickets in one system and comparing the similarity to tickets in another system. In this our JIRA tickets have multiple columns and tags that we want to look into searching over between systems. \n\nItems we want to search over include :\n* Jira Ticket Title: High-level written title by user \n* Jira Ticket Description: Detailed description into what is happening in the JIRA ticket \n* Jira Ticket Component: Category or tag into what is failing in the ticket \n\nBeyond that, we have this additional information on our JIRA tickets:\n* Created Date: When the ticket was created \n* Priority: If the ticket is high/low/medium priority for resolution \n* Status: The status of the ticket, is it open, being worked on, or closed "
  },
  {
   "cell_type": "code",
   "id": "8d50cbf4-0c8d-4950-86cb-114990437ac9",
   "metadata": {
    "language": "sql",
    "name": "cell2",
    "codeCollapsed": false
   },
   "source": "-- Welcome to Snowflake Notebooks!\n-- Try out a SQL cell to generate some data.\nSELECT * FROM \nDEMODB.MULTIINDEXSEARCHJIRA.SYSTEM_A\nLIMIT 10 ;",
   "execution_count": null,
   "outputs": []
  },
  {
   "cell_type": "markdown",
   "id": "59ac293a-1f14-4c5d-8305-915ebae562a6",
   "metadata": {
    "name": "cell15",
    "collapsed": false
   },
   "source": "## Creating the Cortex Search Service \n\nNow that we have seen our ticket data, we are going to create the Cortex Search service over this ticket data. \n\nWhen working with multi-index cortex search, there are two key ways we think about defining available indexes. These are as **text indexes** or **vector indexes**. \n\n**Text Indexes** \n\nText indexes are indexes used for fields where exact or fuzzy keyword matches are important (e.g., product codes, names, categories).\n\nIn our example, a few text indexes could be:\n* Component --> keyword categories \n* Title --> looking for keywords or component names in the description \n\n**Vector Indexes** \n\nVector indexes are indexes used for fields with longer text content where semantic understanding is valuable (e.g., descriptions, reviews).\n\nIn our example, a few vector indexes could be:\n* Description --> need a semantic understanding into what the ticket is about \n* Title --> need for a semantic understanding of the quick user description \n\n**Other Attributes in Search** \n\nSimilar to standard Cortex Search, we also have the ability to identify attributes the enable our end-users to tune their Cortex Search to their needs. This enables users to filter the results by these key attributes. \n\nIn this example, a few attributes could be: \n* Created Data --> filter by recent tickets, or tickets during a specific error time \n* Priority --> filter to only find high priority tickets that are the same \n\n"
  },
  {
   "cell_type": "code",
   "id": "c695373e-ac74-4b62-a1f1-08206cbd5c81",
   "metadata": {
    "language": "sql",
    "name": "cell3",
    "codeCollapsed": false
   },
   "source": "CREATE OR REPLACE CORTEX SEARCH SERVICE jira_tickets_multi_index\nTEXT INDEXES (title, component)\nVECTOR INDEXES (\n    title (model = 'snowflake-arctic-embed-m-v1.5'),\n    description (model = 'snowflake-arctic-embed-m-v1.5')\n)\nATTRIBUTES (priority, status, created_at)\nWAREHOUSE = 'COMPUTE_WH'\nTARGET_LAG = '365 days'\nAS \n    SELECT \n        ticket_id, \n        title,\n        description,\n        priority,\n        status,\n        created_at,\n        component\n    FROM SYSTEM_A",
   "execution_count": null,
   "outputs": []
  },
  {
   "cell_type": "markdown",
   "id": "6be5ea7d-ae9a-4c30-9ac4-fec2f9f3ec9e",
   "metadata": {
    "name": "cell16",
    "collapsed": false
   },
   "source": "## Query Multi-Index on Examples "
  },
  {
   "cell_type": "code",
   "id": "c9a1acb4-25cf-4cf8-8a5b-f7878188837f",
   "metadata": {
    "language": "sql",
    "name": "cell4",
    "codeCollapsed": false
   },
   "outputs": [],
   "source": "-- A look at tickets to compare \nSELECT * \nFROM SYSTEM_B LIMIT 1",
   "execution_count": null
  },
  {
   "cell_type": "markdown",
   "id": "4a013409-87e9-49b0-a6ba-ade5321a74db",
   "metadata": {
    "name": "cell17",
    "collapsed": false
   },
   "source": "### Simple Query \n\nIn this, we can see we can use Cortex Search similar to standard search not specifying index. "
  },
  {
   "cell_type": "code",
   "id": "1d2a3311-bb36-4fa4-896e-9bbbf1a8d790",
   "metadata": {
    "language": "sql",
    "name": "cell5",
    "codeCollapsed": false
   },
   "outputs": [],
   "source": "SELECT\n  value['title']::text as title, value['description']::text as description, value['component']::text as component\nFROM TABLE(FLATTEN(PARSE_JSON(\n  SNOWFLAKE.CORTEX.SEARCH_PREVIEW(\n      'JIRA_TICKETS_MULTI_INDEX',\n      '{\n      \"query\": \"tech repair shop\",\n        \"columns\": [\"title\", \"component\", \"description\"],\n        \"limit\": 2\n      }'\n  ))['results']));\n\n",
   "execution_count": null
  },
  {
   "cell_type": "markdown",
   "id": "a1c4a0f3-a36d-4c74-ab38-878f1688737c",
   "metadata": {
    "name": "cell8",
    "collapsed": false
   },
   "source": "### Multi-index query\n\nIssuing a multi-index query of our ticket title over the text and vector index `title`, and ticket description over the vector index `description`. In this query, equal weighting is given to the scoring of the text and vector components in the scoring_config."
  },
  {
   "cell_type": "code",
   "id": "5e461d75-f852-4fdf-9948-884ba2e67f6a",
   "metadata": {
    "language": "sql",
    "name": "cell6",
    "codeCollapsed": false
   },
   "outputs": [],
   "source": "SELECT\n    value['title']::text as title, value['description']::text as description, value['component']::text as component\nFROM TABLE(FLATTEN(PARSE_JSON(\n    SNOWFLAKE.CORTEX.SEARCH_PREVIEW(\n        'JIRA_TICKETS_MULTI_INDEX',\n        '{\n          \"multi_index_query\": {\n            \"title\": [\n              {\"text\": \"Authentication failing in staging\"}\n            ],\n            \"description\": [\n              {\"text\": \"Users see 401 errors when signing into the staging environment\"}\n            ]\n          },\n          \"columns\": [\"title\", \"component\", \"description\"],\n          \"limit\": 2\n        }'\n    )\n)['results']));",
   "execution_count": null
  },
  {
   "cell_type": "markdown",
   "id": "a205a0db-2cb5-49ae-9f2b-f8fb4a7d580f",
   "metadata": {
    "name": "cell9",
    "collapsed": false
   },
   "source": "### Weight Modification \n\nNow we can look into the same query above, but applying a weight of 4 to the vectors scoring technique, which gives all scores on vector search queries a 4x weight relative to text retrieval and reranking scores in the final scoring process. "
  },
  {
   "cell_type": "code",
   "id": "987090ea-f149-452b-83a3-31e433636819",
   "metadata": {
    "language": "sql",
    "name": "cell7",
    "codeCollapsed": false
   },
   "outputs": [],
   "source": "SELECT\n    value['title']::text as title, value['description']::text as description, value['component']::text as component\nFROM TABLE(FLATTEN(PARSE_JSON(\n    SNOWFLAKE.CORTEX.SEARCH_PREVIEW(\n        'JIRA_TICKETS_MULTI_INDEX',\n        '{\n          \"multi_index_query\": {\n            \"title\": [\n              {\"text\": \"Authentication failing in staging\"}\n            ],\n            \"description\": [\n              {\"text\": \"Users see 401 errors when signing into the staging environment\"}\n            ]\n          },\n          \"scoring_config\": {\n            \"weights\": {\n              \"texts\": 1,\n              \"vectors\": 4,\n              \"reranker\": 1\n            }\n          },\n          \"columns\": [\"title\", \"component\", \"description\"],\n          \"limit\": 2\n        }'\n    )\n)['results']));",
   "execution_count": null
  },
  {
   "cell_type": "markdown",
   "id": "30cf332d-3a7c-4dfb-ae78-9c20bf3dd7a1",
   "metadata": {
    "name": "cell12",
    "collapsed": false
   },
   "source": "### Multi Index Per- Field Function Boosts \n\n**Multi-index query with per-field function boosts:** Issuing a query of “circuit” over all fields, applying a relative weight of text matches on the name field relative to the description field. You might use this type of boost to make a hit on the business name to “matter more” than a hit on the address (i.e., if users are expected to more commonly search by name)."
  },
  {
   "cell_type": "code",
   "id": "805bfedd-e371-433a-932c-0add98993e4c",
   "metadata": {
    "language": "sql",
    "name": "cell13",
    "codeCollapsed": false
   },
   "outputs": [],
   "source": "SELECT\n  value['title']::text       AS title,\n  value['description']::text AS description,\n  value['component']::text   AS component,\n  value['_score']::float     AS score\nFROM TABLE(FLATTEN(PARSE_JSON(\n  SNOWFLAKE.CORTEX.SEARCH_PREVIEW(\n    'JIRA_TICKETS_MULTI_INDEX',\n    '{\n      \"multi_index_query\": {\n        \"title\": [\n          {\"text\": \"Authentication failing in staging\"}\n        ],\n        \"component\": [\n          {\"text\": \"Data\"}\n        ],\n        \"description\": [\n          {\"text\": \"Users see 401 errors when signing into the staging environment\"}\n        ]\n      },\n      \"scoring_config\": {\n        \"weights\": {\n          \"texts\": 1,\n          \"vectors\": 4,\n          \"reranker\": 1\n        },\n        \"functions\": {\n          \"text_boosts\": [\n            {\"column\": \"title\", \"weight\": 2},\n            {\"column\": \"component\", \"weight\": 1}\n          ],\n          \"vector_boosts\": [\n            {\"column\": \"description\", \"weight\": 2},\n            {\"column\": \"title\", \"weight\": 1}\n          ]\n        }\n      },\n      \"columns\": [\"title\", \"component\", \"description\"],\n      \"limit\": 2\n    }'\n  )\n)['results']));\n\n",
   "execution_count": null
  }
 ]
}