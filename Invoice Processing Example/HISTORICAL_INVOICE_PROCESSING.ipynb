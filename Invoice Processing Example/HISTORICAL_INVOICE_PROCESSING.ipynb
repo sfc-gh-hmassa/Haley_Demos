{
 "metadata": {
  "kernelspec": {
   "display_name": "Streamlit Notebook",
   "name": "streamlit"
  },
  "lastEditStatus": {
   "notebookId": "uahgm7f6rk27ubecxri5",
   "authorId": "3366391852320",
   "authorName": "HMASSA",
   "authorEmail": "haley.massa@snowflake.com",
   "sessionId": "b2ddff96-c4df-455f-85a8-6caf43cc3165",
   "lastEditTime": 1759352366611
  }
 },
 "nbformat_minor": 5,
 "nbformat": 4,
 "cells": [
  {
   "cell_type": "code",
   "id": "3775908f-ca36-4846-8f38-5adca39217f2",
   "metadata": {
    "language": "python",
    "name": "cell1"
   },
   "source": "# Import python packages\nimport streamlit as st\nimport pandas as pd\n\n# We can also use Snowpark for our analyses!\nfrom snowflake.snowpark.context import get_active_session\nsession = get_active_session()\n",
   "execution_count": null,
   "outputs": []
  },
  {
   "cell_type": "markdown",
   "id": "9d5db1fd-2e5d-4362-b76c-92bfedf241b5",
   "metadata": {
    "name": "cell4",
    "collapsed": false
   },
   "source": "# Invoice Processing \n\nIn this notebook we will be running the extraction on existing historical invoice documents. \n\n"
  },
  {
   "cell_type": "markdown",
   "id": "c3030f26-e7a5-489c-963c-ea3641c01946",
   "metadata": {
    "name": "cell5",
    "collapsed": false
   },
   "source": "### Upload PDFs to a Snowflake (internal/external) stage with SSE \n\nTo start this demo, we created a Snowflake stage called Invoice_Documents and we uploaded ~200 historical invoice PDF examples to the stage. \n\nDocuments need to be "
  },
  {
   "cell_type": "code",
   "id": "0c29dfbf-f784-4f1a-a1e2-1b5f0a8ecba3",
   "metadata": {
    "language": "sql",
    "name": "cell6"
   },
   "outputs": [],
   "source": "LIST @INVOICE_DOCUMENTS",
   "execution_count": null
  },
  {
   "cell_type": "code",
   "id": "31b59a3c-5115-4179-8469-a21d1521f4f3",
   "metadata": {
    "language": "python",
    "name": "cell9",
    "codeCollapsed": false
   },
   "outputs": [],
   "source": "# List files in INVOICE_DOCUMENTS stage\nlist_result = session.sql(\"LIST @INVOICE_DOCUMENTS\").to_pandas()\nprint(f\"Found {len(list_result)} files\")\nprint(list_result.head())",
   "execution_count": null
  },
  {
   "cell_type": "markdown",
   "id": "345835d7-af36-4470-a490-157e51ca5200",
   "metadata": {
    "name": "cell7",
    "collapsed": false
   },
   "source": "## Processing Documents with Snowflake \n\nNext, we'll take a look at what it looks like to process these documents in Snowflake. We will first look at pulling the text and the format from these documents. This is one way teams may start to process documents. \n\nThen, we will look at AI_Extract which can work on the extracted text from these documents from parse_document. Additionally, we will look at how AI_Extract works multimodally on the underlying PDF as well. \n\nThese functions can be run with both SQL or Python. "
  },
  {
   "cell_type": "code",
   "id": "41fcc736-1486-407a-8a37-3c987671d6b9",
   "metadata": {
    "language": "sql",
    "name": "cell8"
   },
   "outputs": [],
   "source": "SELECT AI_PARSE_DOCUMENT (\n    TO_FILE('@INVOICE_DOCUMENTS','invoice_10248.pdf'),\n    {'mode': 'LAYOUT' , 'page_split': true}) AS text_example;\n",
   "execution_count": null
  },
  {
   "cell_type": "markdown",
   "id": "2321b44c-c441-4d43-b23b-970397a7402a",
   "metadata": {
    "name": "cell11",
    "collapsed": false
   },
   "source": "Here we can see the layout format is able to take in some contextual information about the document. This includes things like the table of line items. \n\nWe can see how well we can extract based on this text information "
  },
  {
   "cell_type": "markdown",
   "id": "129c86d2-2202-4594-8413-34f73d310c63",
   "metadata": {
    "name": "cell10",
    "collapsed": false
   },
   "source": "### AI_Extract \n\nNext, we are going to tell the model what we want to extract. "
  },
  {
   "cell_type": "code",
   "id": "8d50cbf4-0c8d-4950-86cb-114990437ac9",
   "metadata": {
    "language": "sql",
    "name": "cell2",
    "codeCollapsed": false
   },
   "source": "WITH text_example AS (\n    -- Assuming this is correctly loading the data into a VARIANT column named text_data\n    SELECT AI_PARSE_DOCUMENT (\n        TO_FILE('@INVOICE_DOCUMENTS', 'invoice_10248.pdf'),\n        {'mode': 'LAYOUT' , 'page_split': true}\n    ) AS text_data\n),\n\nflatten_content AS (\n    -- This CTE correctly flattens the 'pages' array and extracts 'page_content'\n    SELECT\n        f.value:content::STRING AS page_content,\n        f.value:index::INT AS page_index\n    FROM\n        text_example AS t,\n        LATERAL FLATTEN(INPUT => t.text_data:pages) AS f\n)\n\n-- The final SELECT statement applies AI_EXTRACT to the 'page_content' column\n-- which is available from the flatten_content CTE.\nSELECT\n    AI_EXTRACT(\n        -- FIX: Name the first argument explicitly as 'text_input'\n        text => page_content,\n        responseFormat => [\n            'contact_name: Who is receiving this invoice (first and last name)',\n            'Order_ID: What is the order number',\n            'customer_id: What is the customer number',\n            'customer_city: What is the customer city',\n            'customer_country: What is the customer country',\n            'order_date: When was this ordered',\n            'product_name_description: Product or service name for each line item and any description about the product',\n            'product_id: Product ID or SKU for each line item',\n            'quantity: Quantity for each line item',\n            'rate: Unit price or rate for each line item',\n            'amount: Total amount for each line item',\n            'total_amount: Total invoice amount'\n        ]\n    ) AS extracted_data,\n    page_index\nFROM\n    flatten_content;",
   "execution_count": null,
   "outputs": []
  },
  {
   "cell_type": "markdown",
   "id": "690b5b37-e5f7-49b0-8f26-562bc31c4edd",
   "metadata": {
    "name": "cell20",
    "collapsed": false
   },
   "source": "We can see overall it does well. However, "
  },
  {
   "cell_type": "markdown",
   "id": "5045994c-64f7-482a-bb2d-04bb831520d9",
   "metadata": {
    "name": "cell12",
    "collapsed": false
   },
   "source": "## AI_EXTRACT on PDFs \n\nBeyond being able to extract on our text data, we can use AI_Extract multimodally directly on our PDF documents. This is often the ideal solution for invoice documents as different providers may be providing different information visually or with tables etc in the documents. "
  },
  {
   "cell_type": "code",
   "id": "c695373e-ac74-4b62-a1f1-08206cbd5c81",
   "metadata": {
    "language": "sql",
    "name": "cell3",
    "codeCollapsed": false
   },
   "source": "SELECT AI_EXTRACT(\n    file => TO_FILE('@INVOICE_DOCUMENTS', 'invoice_10248.pdf'),\n    responseFormat => [\n            'contact_name: Who is receiving this invoice (first and last name)',\n            'Order_ID: What is the order number',\n            'customer_id: What is the customer number',\n            'customer_city: What is the customer city',\n            'customer_country: What is the customer country',\n            'order_date: When was this ordered',\n            'product_name_description: Product or service name for each line item and any description about the product',\n            'product_id: Product ID or SKU for each line item',\n            'quantity: Quantity for each line item',\n            'rate: Unit price or rate for each line item',\n            'amount: Total amount for each line item',\n            'total_amount: Total invoice amount'\n        ]\n) as extracted_data",
   "execution_count": null,
   "outputs": []
  },
  {
   "cell_type": "markdown",
   "id": "1ce7364e-4a54-474d-8475-a6ed761cc8b2",
   "metadata": {
    "name": "cell19",
    "collapsed": false
   },
   "source": "Writing this into a readable table "
  },
  {
   "cell_type": "code",
   "id": "289fc651-3e12-4950-9f71-569a1fafaa8f",
   "metadata": {
    "language": "sql",
    "name": "cell18"
   },
   "outputs": [],
   "source": "WITH your_extracted_table AS (\n    SELECT\n        AI_EXTRACT(\n            file => TO_FILE('@INVOICE_DOCUMENTS', 'invoice_10250.pdf'),\n            responseFormat => [\n                'contact_name: Who is receiving this invoice (first and last name)',\n                'Order_ID: What is the order number',\n                'customer_id: What is the customer number',\n                'customer_city: What is the customer city',\n                'customer_country: What is the customer country',\n                'order_date: When was this ordered',\n                'product_name_description: Product or service name for each line item and any description about the product',\n                'product_id: Product ID or SKU for each line item',\n                'quantity: Quantity for each line item',\n                'rate: Unit price or rate for each line item',\n                'amount: Total amount for each line item',\n                'total_amount: Total invoice amount'\n            ]\n        ) AS extracted_data\n)\nSELECT\n    -- 1. HEADER FIELDS\n    t.extracted_data:response:contact_name::STRING AS customer_name,\n    t.extracted_data:response:Order_ID::STRING AS invoice_number,\n    t.extracted_data:response:customer_id::STRING AS customer_id, -- Added for completeness\n    t.extracted_data:response:customer_city::STRING AS customer_city, -- Added for completeness\n    t.extracted_data:response:total_amount::FLOAT AS total_amount,\n\n    -- 2. LINE ITEM FIELDS (Extracted via the index from the FLATTEN operation)\n    f_line.index AS line_item_index,\n\n    -- Value of the array that was flattened (Product Name/Description)\n    f_line.value::STRING AS product_name_description,\n\n    -- Get corresponding values from other parallel arrays using the index\n    t.extracted_data:response:product_id[f_line.index]::STRING AS product_id,\n    t.extracted_data:response:quantity[f_line.index]::INT AS quantity,\n    t.extracted_data:response:rate[f_line.index]::FLOAT AS rate,\n    t.extracted_data:response:amount[f_line.index]::FLOAT AS line_item_amount\n\nFROM\n    your_extracted_table AS t,\n\n    -- FLATTEN ONE line-item array to drive the row creation\n    LATERAL FLATTEN(\n        INPUT => t.extracted_data:response:product_name_description\n    ) AS f_line\nORDER BY\n    invoice_number, line_item_index;",
   "execution_count": null
  },
  {
   "cell_type": "markdown",
   "id": "aa0799f8-7a43-4a9b-8c74-de79e27659ef",
   "metadata": {
    "name": "cell15",
    "collapsed": false
   },
   "source": "## Running This On All Existing Data "
  },
  {
   "cell_type": "code",
   "id": "df4af1df-6b67-4f03-a21d-bcc2af0b26b2",
   "metadata": {
    "language": "sql",
    "name": "cell13",
    "codeCollapsed": false
   },
   "outputs": [],
   "source": "CREATE OR REPLACE TEMPORARY TABLE Invoice_Data AS\nSELECT\n    d.RELATIVE_PATH AS file_path, -- File path for reference (guaranteed column from DIRECTORY)\n    AI_EXTRACT(\n        file => TO_FILE(\n            '@INVOICE_DOCUMENTS',\n            d.RELATIVE_PATH\n        ),\n        responseFormat => [\n            'contact_name: Who is receiving this invoice (first and last name)',\n            'Order_ID: What is the order number',\n            'customer_id: What is the customer number',\n            'customer_city: What is the customer city',\n            'customer_country: What is the customer country',\n            'order_date: When was this ordered',\n            'product_name_description: Product or service name for each line item and any description about the product',\n            'product_id: Product ID or SKU for each line item',\n            'quantity: Quantity for each line item',\n            'rate: Unit price or rate for each line item',\n            'amount: Total amount for each line item',\n            'total_amount: Total invoice amount'\n        ]\n    ) AS extracted_data\nFROM\n    DIRECTORY(@INVOICE_DOCUMENTS) AS d;",
   "execution_count": null
  },
  {
   "cell_type": "code",
   "id": "e42bdcb1-3229-4374-8f96-23e54197da94",
   "metadata": {
    "language": "sql",
    "name": "cell14",
    "codeCollapsed": false
   },
   "outputs": [],
   "source": "CREATE OR REPLACE TABLE Invoice_Line_Items AS (\n\nSELECT\n    -- 1. HEADER FIELDS\n    t.extracted_data:response:contact_name::STRING AS customer_name,\n    t.extracted_data:response:Order_ID::STRING AS invoice_number,\n    t.extracted_data:response:customer_id::STRING AS customer_id, -- Added for completeness\n    t.extracted_data:response:customer_city::STRING AS customer_city, -- Added for completeness\n    t.extracted_data:response:total_amount::FLOAT AS total_amount,\n\n    -- 2. LINE ITEM FIELDS (Extracted via the index from the FLATTEN operation)\n    f_line.index AS line_item_index,\n\n    -- Value of the array that was flattened (Product Name/Description)\n    f_line.value::STRING AS product_name_description,\n\n    -- Get corresponding values from other parallel arrays using the index\n    t.extracted_data:response:product_id[f_line.index]::STRING AS product_id,\n    t.extracted_data:response:quantity[f_line.index]::INT AS quantity,\n    t.extracted_data:response:rate[f_line.index]::FLOAT AS rate,\n    t.extracted_data:response:amount[f_line.index]::FLOAT AS line_item_amount\n\nFROM\n    invoice_data AS t,\n\n    -- FLATTEN ONE line-item array to drive the row creation\n    LATERAL FLATTEN(\n        INPUT => t.extracted_data:response:product_name_description\n    ) AS f_line\nORDER BY\n    invoice_number, line_item_index ) ",
   "execution_count": null
  },
  {
   "cell_type": "code",
   "id": "999b2c33-9c49-476a-a33c-38c6dc1671f7",
   "metadata": {
    "language": "sql",
    "name": "cell17"
   },
   "outputs": [],
   "source": "SELECT * \nFROM INVOICE_LINE_ITEMS\nLIMIT 10",
   "execution_count": null
  },
  {
   "cell_type": "markdown",
   "id": "88334d21-babf-4c5b-b720-516548539e5b",
   "metadata": {
    "name": "cell21",
    "collapsed": false
   },
   "source": "## Ongoing Maintenance (Optional)\n\nWe just ran through running the AI Extract over all of the historical invoices available to the team. However, what happens as new invoices come in? \n\nWe can easily set up this system to take in new invoices through setting up document ingestion pipeline with a stream and a task in Snowflake. In this, we will use our underlying directory table. \n\n1. Store Files in a Stage with a Directory Table \n2. Create a Stream to Read in any new documents to the Directory table \n3. At some batch cadence, run a task to process the new documents since the last task \n4. Repeat \n\nCan provide greater insight. Here is a link to get started with more streams and tasks https://quickstarts.snowflake.com/guide/getting_started_with_streams_and_tasks/#0 "
  },
  {
   "cell_type": "markdown",
   "id": "fb3ec97a-7119-49b0-b9e9-2d1f1ffadbaa",
   "metadata": {
    "name": "cell16",
    "collapsed": false
   },
   "source": "# Part Two: Create a Search Service \n\nNext, we can create a search service to help teams find the most relevant line items similar to their invoices.\n\nThis search service can be built through the UI or by calling the service as we are doing below. \n\nThere are a few things to keep in mind when looking at this search service:\n* **ON Column**: This is the text column we are going to be searching over. In this example, we are going to be searching for similar product_name_descriptions to find the most similar example invoice line items. \n* **Attribute Columns**: These are columns that we are not using for search specifically, but can be used in filters or ways that teams may choose to interact with what values they'd like to get back from search. For example, we may make Customer_ID an attribute to search over, because maybe we only want to look for invoices that came from a specific customer. Or line item amount, because we may only look for products that are similar below a specific price. \n* **Warehouse**: This is the warehouse that will be used to re-index the search service \n* **Target Lag**: This is how often the search service will look for new records. So similar to the stream and task described in the resources above to bring in new invoices, how often should the service look for new invoices to add into the service. This will automatically add those new product line items added to the table to our search service at a specific cadence. \n* **Embedding Model**: This is the model that will transform our text into vector embeddings. This will allow us to find semantically similar terms. \n* **Select columns:** These are the columns (including our search column and attribute columns) that our service can return in a select statement. We may want to add in additional values that would be helpful for the end user that we may not necessarily want to search or filter over. For example, invoice ID will be impactful for our end user to know -- however, they may not actually need this information to perform our search. \n\n\n"
  },
  {
   "cell_type": "code",
   "id": "d09633b1-5139-43a5-9a28-37b728829cf9",
   "metadata": {
    "language": "sql",
    "name": "cell22"
   },
   "outputs": [],
   "source": "CREATE OR REPLACE CORTEX SEARCH SERVICE Invoice_Product_Search\n  ON Product_Name_Description\n  ATTRIBUTES Customer_ID,\n                Customer_City,\n                line_item_amount\n  WAREHOUSE = DATASCIENCECOLLEGE\n  TARGET_LAG = '365 days'\n  EMBEDDING_MODEL = 'snowflake-arctic-embed-l-v2.0'\nAS (\n  SELECT\n      Product_Name_Description,\n      Customer_ID,\n      Customer_city,\n      Invoice_number,\n      product_id,\n      line_item_amount\n  FROM DEMODB.INVOICE_ANALYSIS.INVOICE_LINE_ITEMS\n)",
   "execution_count": null
  },
  {
   "cell_type": "code",
   "id": "b0dfda06-2edb-44f7-826e-6a79f7da696e",
   "metadata": {
    "language": "sql",
    "name": "cell23",
    "codeCollapsed": false
   },
   "outputs": [],
   "source": "SELECT PARSE_JSON(\n  SNOWFLAKE.CORTEX.SEARCH_PREVIEW(\n      'Invoice_Product_Search',\n      '{\n         \"query\": \"Haileys Penne Vodka\",\n         \"columns\":[\n            \"line_item_amount\",\n            \"customer_id\",\n            \"product_name_description\"\n         ],\n         \"limit\":10\n      }'\n  )\n)['results'] as results;",
   "execution_count": null
  },
  {
   "cell_type": "code",
   "id": "e0fbeff5-ca24-472b-b2d2-e169da073b0e",
   "metadata": {
    "language": "sql",
    "name": "cell24",
    "codeCollapsed": false
   },
   "outputs": [],
   "source": "",
   "execution_count": null
  }
 ]
}