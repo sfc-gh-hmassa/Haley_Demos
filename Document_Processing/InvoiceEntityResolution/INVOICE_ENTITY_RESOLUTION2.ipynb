{
 "metadata": {
  "language_info": {
   "name": "python"
  },
  "lastEditStatus": {
   "notebookId": "okxifk62zkbdbo6hy2z3",
   "authorId": "3366391852320",
   "authorName": "HMASSA",
   "authorEmail": "haley.massa@snowflake.com",
   "sessionId": "88f28aa2-9256-49f8-a06a-f360771e1600",
   "lastEditTime": 1757007104882
  }
 },
 "nbformat_minor": 2,
 "nbformat": 4,
 "cells": [
  {
   "cell_type": "markdown",
   "metadata": {
    "name": "cell1",
    "collapsed": false
   },
   "source": "# Invoice Entity Resolution & Procurement Intelligence\n\n## 🎯 **Business Problem**\n\n**Procurement Challenge:** Every day, purchasing receives 20-50 new vendor quotes that need to be compared against 10,000+ historical invoices to find better pricing and negotiation opportunities.\n\n**Manual Process Problems:**\n- ❌ Takes 2-3 hours per quote to research historical purchases\n- ❌ Impossible to remember all previous purchases across vendors\n- ❌ Miss opportunities to negotiate based on historical pricing\n- ❌ No systematic way to identify price increases\n\n**AI Solution:**\n- ✅ Semantic search finds similar products across different vendor descriptions\n- ✅ Automated price comparison with historical data\n- ✅ AI-powered negotiation recommendations\n- ✅ Batch processing of daily quotes in minutes\n- ✅ Recent purchases weighted higher for relevant pricing\n\n## 🧠 **Technologies Used**\n- **Cortex Search**: Semantic similarity matching with recency weighting\n- **CORTEX.COMPLETE**: AI-powered price analysis and recommendations\n- **Vector Embeddings**: Find similar products across vendor variations\n\n## 📋 **Demo Flow**\n1. **Load Data**: Historical invoices + new vendor quotes\n2. **Create Search Service**: With recency weighting for better pricing relevance\n3. **Single Invoice Analysis**: Deep dive into one quote\n4. **Daily Batch Analysis**: Process all quotes to prioritize opportunities\n",
   "id": "ce110000-1111-2222-3333-ffffff000000"
  },
  {
   "cell_type": "code",
   "id": "40192ce8-502d-47ff-aac2-04e660d55bbd",
   "metadata": {
    "language": "python",
    "name": "cell32"
   },
   "outputs": [],
   "source": "# Import required packages for data processing\nimport pandas as pd\nimport json\nfrom datetime import datetime, timedelta\n\n# Note: In Snowflake notebooks, session and Snowpark functions are automatically available\nfrom snowflake.snowpark import Session\n\nsession = Session.builder.getOrCreate()\n",
   "execution_count": null
  },
  {
   "cell_type": "code",
   "id": "cad44547-06e6-4383-bcc2-1bd1aef4bddd",
   "metadata": {
    "language": "python",
    "name": "cell31",
    "codeCollapsed": false
   },
   "outputs": [],
   "source": "# Set up database and schema\nsession.sql(\"CREATE DATABASE IF NOT EXISTS DEMODB\").collect()\nsession.sql(\"USE DATABASE DEMODB\").collect()\nsession.sql(\"CREATE OR REPLACE SCHEMA procurement_intelligence\").collect()\nsession.sql(\"USE SCHEMA procurement_intelligence\").collect()\n\nprint(\"📍 Database Setup Complete!\")\nprint(f\"Database: {session.get_current_database()}\")\nprint(f\"Schema: {session.get_current_schema()}\")",
   "execution_count": null
  },
  {
   "cell_type": "markdown",
   "id": "4ac939ae-0fef-4858-acd0-20904522e184",
   "metadata": {
    "name": "cell33",
    "collapsed": false
   },
   "source": "## 📊 **Step 1: Load Data**\n\nWe'll load:\n- **Historical Invoices**: 40 previous purchases across different vendors and products\n- **New Vendor Quotes**: 10 new quotes that need price analysis"
  },
  {
   "cell_type": "code",
   "id": "2d150ce9-237b-431b-8c5e-ba40a7da31d5",
   "metadata": {
    "language": "python",
    "name": "cell30",
    "codeCollapsed": false
   },
   "outputs": [],
   "source": "# Load historical invoices\nimport pandas as pd\n\nhistorical_invoices = pd.read_csv('historical_invoices.csv')\nprint(f\"📊 Loaded {len(historical_invoices)} historical invoices\")\nprint(f\"💰 Total historical spend: ${historical_invoices['total_amount'].sum():,.2f}\")\n\n# Convert to Snowflake table\nhistorical_invoices.columns = [c.upper() for c in historical_invoices.columns]\nhistorical_df = session.create_dataframe(historical_invoices)\nhistorical_df.write.mode(\"overwrite\").save_as_table(\"HISTORICAL_INVOICES\")\n\nprint(\"✅ Historical invoices loaded!\")",
   "execution_count": null
  },
  {
   "cell_type": "code",
   "id": "3b4e63d3-ab42-4406-acd5-43c2292855da",
   "metadata": {
    "language": "python",
    "name": "cell29",
    "codeCollapsed": false
   },
   "outputs": [],
   "source": "# Load new vendor quotes\nvendor_quotes = pd.read_csv('vendor_quotes_new.csv')\nprint(f\"📨 Loaded {len(vendor_quotes)} new vendor quotes\")\nprint(f\"💸 Total quoted amount: ${vendor_quotes['quoted_total'].sum():,.2f}\")\n\n# Convert to Snowflake table\nvendor_quotes.columns = [c.upper() for c in vendor_quotes.columns]\nquotes_df = session.create_dataframe(vendor_quotes)\nquotes_df.write.mode(\"overwrite\").save_as_table(\"NEW_VENDOR_QUOTES\")\n\nprint(\"✅ New quotes loaded!\")\n",
   "execution_count": null
  },
  {
   "cell_type": "markdown",
   "id": "29cd368e-a04a-4db8-8e37-a962a8f8da21",
   "metadata": {
    "name": "cell34",
    "collapsed": false
   },
   "source": "## 🔍 **Step 2: Create Search Service with Recency Weighting**\n\nThis search service will:\n- **Find similar products** across different vendor descriptions\n- **Weight recent purchases higher** for more relevant pricing\n- **Return key attributes** needed for price comparison"
  },
  {
   "cell_type": "code",
   "id": "c1489168-4249-4b37-b5ea-1248467a0a84",
   "metadata": {
    "language": "sql",
    "name": "cell28",
    "codeCollapsed": false
   },
   "outputs": [],
   "source": "-- Create search service with recency weighting\n-- Note: Using fixed date '2024-12-01' instead of CURRENT_DATE() to avoid change tracking issues\nCREATE OR REPLACE CORTEX SEARCH SERVICE PROCUREMENT_SEARCH\n  ON SEARCH_TEXT\n  ATTRIBUTES INVOICE_ID, VENDOR_NAME, UNIT_PRICE, INVOICE_DATE, RECENCY_WEIGHT\n  WAREHOUSE = COMPUTE_WH\n  TARGET_LAG = '5 minutes'\n  EMBEDDING_MODEL = 'snowflake-arctic-embed-l-v2.0'\n  AS (\n    SELECT\n        INVOICE_ID,\n        \n        -- Enhanced search text with recency indicators\n        CONCAT(\n            'Product: ', PRODUCT_DESCRIPTION,\n            ', Category: ', PRODUCT_CATEGORY,\n            ', Vendor: ', VENDOR_NAME,\n            ', Specs: ', COALESCE(SPECIFICATIONS, ''),\n            ', Part: ', COALESCE(PART_NUMBER, ''),\n            -- Add recency context for semantic matching\n            CASE \n                WHEN INVOICE_DATE >= '2024-06-01' \n                THEN ' [RECENT PURCHASE - CURRENT PRICING]'\n                WHEN INVOICE_DATE >= '2023-12-01' \n                THEN ' [RECENT PURCHASE]'\n                ELSE ' [OLDER PURCHASE]'\n            END\n        ) AS SEARCH_TEXT,\n        \n        VENDOR_NAME,\n        UNIT_PRICE,\n        INVOICE_DATE,\n        \n        -- Recency weight: higher for recent purchases\n        CASE \n            WHEN INVOICE_DATE >= '2024-09-01' THEN 1.0  -- Last 3 months\n            WHEN INVOICE_DATE >= '2024-06-01' THEN 0.9  -- 3-6 months  \n            WHEN INVOICE_DATE >= '2023-12-01' THEN 0.7  -- 6-12 months\n            WHEN INVOICE_DATE >= '2022-12-01' THEN 0.5  -- 1-2 years\n            ELSE 0.3                                    -- 2+ years\n        END AS RECENCY_WEIGHT\n        \n    FROM HISTORICAL_INVOICES\n    WHERE INVOICE_DATE >= '2021-12-01'  -- Only last 3 years\n  );\n\nSHOW CORTEX SEARCH SERVICES LIKE 'PROCUREMENT_SEARCH';\n",
   "execution_count": null
  },
  {
   "cell_type": "markdown",
   "id": "0af3ef2d-1ecf-4c00-9f1c-073b00d9743f",
   "metadata": {
    "name": "cell35",
    "collapsed": false
   },
   "source": "## 🎯 **Step 3: Analyze Single Invoice Materials**\n\nLet's analyze one specific quote to see how the search finds similar historical purchases and provides negotiation insights.\n"
  },
  {
   "cell_type": "code",
   "id": "1641f3ce-c95a-40cd-8af8-d5f00adc9568",
   "metadata": {
    "language": "sql",
    "name": "cell27",
    "codeCollapsed": false
   },
   "outputs": [],
   "source": "-- Analyze materials in one specific quote (QTE001)\n-- Using CORTEX_SEARCH_BATCH (the only available search function)\n\nSELECT \n    '🔍 SINGLE QUOTE ANALYSIS: ' || nq.QUOTE_ID as analysis_type,\n    nq.PRODUCT_DESCRIPTION as quoted_product,\n    nq.VENDOR_NAME as quote_vendor,\n    nq.QUOTED_UNIT_PRICE as current_quote,\n    \n    -- Best historical match from search results\n    s.VENDOR_NAME as historical_vendor,\n    TRY_CAST(s.UNIT_PRICE AS FLOAT) as historical_price,\n    s.INVOICE_DATE as when_purchased,\n    TRY_CAST(s.RECENCY_WEIGHT AS FLOAT) as recency_score,\n    \n    -- Price comparison\n    ROUND(((nq.QUOTED_UNIT_PRICE - TRY_CAST(s.UNIT_PRICE AS FLOAT)) / TRY_CAST(s.UNIT_PRICE AS FLOAT) * 100), 1) as price_change_pct,\n    (nq.QUOTED_UNIT_PRICE - TRY_CAST(s.UNIT_PRICE AS FLOAT)) * nq.QUOTED_QUANTITY as total_impact,\n    \n    -- AI recommendation\n    SNOWFLAKE.CORTEX.COMPLETE(\n        'llama3-70b',\n        CONCAT(\n            'PROCUREMENT ANALYSIS:\\n',\n            'Current Quote: $', nq.QUOTED_UNIT_PRICE, ' from ', nq.VENDOR_NAME, '\\n',\n            'Historical: $', s.UNIT_PRICE, ' from ', s.VENDOR_NAME, ' (', s.INVOICE_DATE, ')\\n',\n            'Price Change: ', ROUND(((nq.QUOTED_UNIT_PRICE - TRY_CAST(s.UNIT_PRICE AS FLOAT)) / TRY_CAST(s.UNIT_PRICE AS FLOAT) * 100), 1), '%\\n',\n            'Product: ', nq.PRODUCT_DESCRIPTION, '\\n\\n',\n            'Provide JSON: {\"action\": \"ACCEPT|NEGOTIATE|REJECT\", \"target_price\": 999, \"reasoning\": \"brief explanation\", \"talking_points\": [\"point1\", \"point2\"]}'\n        )\n    ) as ai_recommendation\n\nFROM NEW_VENDOR_QUOTES nq,\nLATERAL CORTEX_SEARCH_BATCH(\n    service_name => 'PROCUREMENT_SEARCH',\n    query => CONCAT('Product: ', nq.PRODUCT_DESCRIPTION, ', Category: ', nq.PRODUCT_CATEGORY, ', Specs: ', COALESCE(nq.SPECIFICATIONS, '')),\n    limit => 1\n) s\nWHERE nq.QUOTE_ID = 'QTE001'  -- Analyze specific quote\n  AND s.RANK = 1\n  AND s.INVOICE_ID IS NOT NULL\n  AND s.ERROR IS NULL;\n",
   "execution_count": null
  },
  {
   "cell_type": "code",
   "id": "6379c121-cb3c-43b6-ad65-92c20b146b3e",
   "metadata": {
    "language": "sql",
    "name": "cell26",
    "codeCollapsed": true,
    "collapsed": false
   },
   "outputs": [],
   "source": "-- 📊 ENHANCED SINGLE QUOTE DISPLAY: Top 3 Historical Matches with Clear Recommendations\n\nWITH quote_analysis AS (\n    SELECT \n        nq.QUOTE_ID,\n        nq.PRODUCT_DESCRIPTION,\n        nq.VENDOR_NAME as current_vendor,\n        nq.QUOTED_UNIT_PRICE as current_price,\n        nq.QUOTED_QUANTITY,\n        \n        -- Historical match details\n        s.RANK as match_rank,\n        s.VENDOR_NAME as historical_vendor,\n        TRY_CAST(s.UNIT_PRICE AS FLOAT) as historical_price,\n        s.INVOICE_DATE as purchase_date,\n        TRY_CAST(s.RECENCY_WEIGHT AS FLOAT) as recency_weight,\n        \n        -- Price analysis\n        ROUND(((nq.QUOTED_UNIT_PRICE - TRY_CAST(s.UNIT_PRICE AS FLOAT)) / TRY_CAST(s.UNIT_PRICE AS FLOAT) * 100), 1) as price_variance_pct,\n        (nq.QUOTED_UNIT_PRICE - TRY_CAST(s.UNIT_PRICE AS FLOAT)) * nq.QUOTED_QUANTITY as total_price_impact,\n        \n        -- Recommendation logic\n        CASE \n            WHEN ((nq.QUOTED_UNIT_PRICE - TRY_CAST(s.UNIT_PRICE AS FLOAT)) / TRY_CAST(s.UNIT_PRICE AS FLOAT) * 100) > 25 THEN '🔴 NEGOTIATE AGGRESSIVELY'\n            WHEN ((nq.QUOTED_UNIT_PRICE - TRY_CAST(s.UNIT_PRICE AS FLOAT)) / TRY_CAST(s.UNIT_PRICE AS FLOAT) * 100) > 15 THEN '🟡 NEGOTIATE'\n            WHEN ((nq.QUOTED_UNIT_PRICE - TRY_CAST(s.UNIT_PRICE AS FLOAT)) / TRY_CAST(s.UNIT_PRICE AS FLOAT) * 100) > 5 THEN '🟢 CONSIDER NEGOTIATION'\n            WHEN ((nq.QUOTED_UNIT_PRICE - TRY_CAST(s.UNIT_PRICE AS FLOAT)) / TRY_CAST(s.UNIT_PRICE AS FLOAT) * 100) > -5 THEN '✅ FAIR PRICE'\n            ELSE '💰 GOOD DEAL'\n        END as recommendation\n        \n    FROM NEW_VENDOR_QUOTES nq,\n    LATERAL CORTEX_SEARCH_BATCH(\n        service_name => 'PROCUREMENT_SEARCH',\n        query => CONCAT('Product: ', nq.PRODUCT_DESCRIPTION, ', Category: ', nq.PRODUCT_CATEGORY, ', Specs: ', COALESCE(nq.SPECIFICATIONS, '')),\n        limit => 3  -- Get top 3 matches\n    ) s\n    WHERE nq.QUOTE_ID = 'QTE001'\n      AND s.INVOICE_ID IS NOT NULL\n      AND s.ERROR IS NULL\n      AND TRY_CAST(s.UNIT_PRICE AS FLOAT) IS NOT NULL\n    ORDER BY s.RANK\n)\n\n-- Clean display format\nSELECT \n    CASE \n        WHEN match_rank = 1 THEN '🎯 QUOTE ANALYSIS: ' || QUOTE_ID || ' - ' || PRODUCT_DESCRIPTION\n        ELSE ''\n    END as analysis_header,\n    \n    CASE \n        WHEN match_rank = 1 THEN '💰 CURRENT QUOTE'\n        ELSE 'Historical Match #' || match_rank\n    END as comparison_type,\n    \n    CASE \n        WHEN match_rank = 1 THEN current_vendor\n        ELSE historical_vendor || ' (' || purchase_date || ')'\n    END as vendor_info,\n    \n    CASE \n        WHEN match_rank = 1 THEN '$' || current_price\n        ELSE '$' || historical_price\n    END as unit_price,\n    \n    CASE \n        WHEN match_rank = 1 THEN '$' || (current_price * QUOTED_QUANTITY)\n        ELSE '$' || (historical_price * QUOTED_QUANTITY) || ' (if same qty)'\n    END as total_cost,\n    \n    CASE \n        WHEN match_rank = 1 THEN 'BASELINE'\n        WHEN price_variance_pct > 0 THEN '+' || price_variance_pct || '% HIGHER'\n        ELSE price_variance_pct || '% LOWER'\n    END as price_comparison,\n    \n    CASE \n        WHEN match_rank = 1 THEN recommendation\n        ELSE 'Recency Score: ' || ROUND(recency_weight * 100, 0) || '%'\n    END as recommendation_or_score\n\nFROM quote_analysis\n\nUNION ALL\n\n-- Summary recommendation\nSELECT \n    '🏆 OVERALL RECOMMENDATION' as analysis_header,\n    (SELECT recommendation FROM quote_analysis WHERE match_rank = 1) as comparison_type,\n    'Based on ' || COUNT(*) || ' historical matches' as vendor_info,\n    'Avg Historical: $' || ROUND(AVG(historical_price), 2) as unit_price,\n    'Potential Savings: $' || ROUND(ABS(MIN(total_price_impact)), 0) as total_cost,\n    CASE \n        WHEN AVG(price_variance_pct) > 15 THEN 'Strong negotiation position'\n        WHEN AVG(price_variance_pct) > 5 THEN 'Moderate negotiation opportunity'\n        ELSE 'Price appears competitive'\n    END as price_comparison,\n    'Target Price: $' || ROUND(AVG(historical_price) * 1.05, 2) as recommendation_or_score\nFROM quote_analysis;\n",
   "execution_count": null
  },
  {
   "cell_type": "markdown",
   "id": "772a25b1-9e10-400b-85de-607f360368df",
   "metadata": {
    "name": "cell36",
    "collapsed": false
   },
   "source": "## 📈 **Step 4: Daily Batch Analysis - All Materials**\n\nNow let's process ALL new quotes for the day to identify the biggest opportunities and priorities.\n"
  },
  {
   "cell_type": "code",
   "id": "baae9920-a691-47a4-93d3-f4dfa0d0ae1e",
   "metadata": {
    "language": "sql",
    "name": "cell37"
   },
   "outputs": [],
   "source": "-- Step 1: Create batch search results table (following working demo pattern)\nCREATE OR REPLACE TABLE PROCUREMENT_BATCH_SEARCH_RESULTS AS\nSELECT\n  nq.QUOTE_ID,\n  nq.PRODUCT_DESCRIPTION,\n  nq.VENDOR_NAME as quote_vendor,\n  nq.QUOTED_UNIT_PRICE,\n  nq.QUOTED_QUANTITY,\n  nq.REQUESTED_BY,\n  nq.VALID_UNTIL,\n  CONCAT('Product: ', nq.PRODUCT_DESCRIPTION, ', Category: ', nq.PRODUCT_CATEGORY, ', Specs: ', COALESCE(nq.SPECIFICATIONS, '')) as search_query,\n  s.*\nFROM NEW_VENDOR_QUOTES AS nq,\nLATERAL CORTEX_SEARCH_BATCH(\n  service_name => 'PROCUREMENT_SEARCH',\n  query => CONCAT('Product: ', nq.PRODUCT_DESCRIPTION, ', Category: ', nq.PRODUCT_CATEGORY, ', Specs: ', COALESCE(nq.SPECIFICATIONS, '')),\n  limit => 3\n) AS s;",
   "execution_count": null
  },
  {
   "cell_type": "code",
   "id": "bf83f206-74e0-43a3-abf7-057bab1ca697",
   "metadata": {
    "language": "sql",
    "name": "cell38"
   },
   "outputs": [],
   "source": "-- Step 2: View the batch search results\nSELECT * FROM PROCUREMENT_BATCH_SEARCH_RESULTS \nWHERE ERROR IS NULL \n  AND INVOICE_ID IS NOT NULL\nORDER BY QUOTE_ID, RANK\nLIMIT 10;\n",
   "execution_count": null
  },
  {
   "cell_type": "code",
   "id": "f8ae1581-7601-4c76-aff7-82b57c5d1ed8",
   "metadata": {
    "language": "sql",
    "name": "cell39"
   },
   "outputs": [],
   "source": "-- Step 3: Create procurement analysis with clear recommendations\nWITH daily_analysis AS (\n    SELECT \n        QUOTE_ID,\n        PRODUCT_DESCRIPTION,\n        quote_vendor,\n        QUOTED_UNIT_PRICE,\n        QUOTED_QUANTITY,\n        REQUESTED_BY,\n        VALID_UNTIL,\n        \n        -- Best historical match (rank 1 only)\n        VENDOR_NAME as historical_vendor,\n        TRY_CAST(UNIT_PRICE AS FLOAT) as historical_price,\n        INVOICE_DATE as historical_date,\n        TRY_CAST(RECENCY_WEIGHT AS FLOAT) as recency_weight,\n        \n        -- Price analysis\n        ROUND(((QUOTED_UNIT_PRICE - TRY_CAST(UNIT_PRICE AS FLOAT)) / TRY_CAST(UNIT_PRICE AS FLOAT) * 100), 1) as price_variance_pct,\n        (QUOTED_UNIT_PRICE - TRY_CAST(UNIT_PRICE AS FLOAT)) * QUOTED_QUANTITY as potential_savings,\n        \n        -- Priority classification\n        CASE \n            WHEN ((QUOTED_UNIT_PRICE - TRY_CAST(UNIT_PRICE AS FLOAT)) / TRY_CAST(UNIT_PRICE AS FLOAT) * 100) > 20 THEN '🔴 HIGH PRIORITY'\n            WHEN ((QUOTED_UNIT_PRICE - TRY_CAST(UNIT_PRICE AS FLOAT)) / TRY_CAST(UNIT_PRICE AS FLOAT) * 100) > 10 THEN '🟡 MEDIUM PRIORITY'\n            WHEN ((QUOTED_UNIT_PRICE - TRY_CAST(UNIT_PRICE AS FLOAT)) / TRY_CAST(UNIT_PRICE AS FLOAT) * 100) > 0 THEN '🟢 LOW PRIORITY'\n            ELSE '✅ GOOD PRICE'\n        END as priority_level\n        \n    FROM PROCUREMENT_BATCH_SEARCH_RESULTS\n    WHERE RANK = 1  -- Only best match\n      AND ERROR IS NULL\n      AND INVOICE_ID IS NOT NULL\n      AND TRY_CAST(UNIT_PRICE AS FLOAT) IS NOT NULL\n)\n\n-- Executive Summary\nSELECT \n    '📊 DAILY PROCUREMENT INTELLIGENCE SUMMARY' as report_section,\n    CAST(COUNT(*) AS VARCHAR) as total_quotes_analyzed,\n    CAST(COUNT(CASE WHEN priority_level LIKE '%HIGH%' THEN 1 END) AS VARCHAR) as high_priority_quotes,\n    CAST(COUNT(CASE WHEN priority_level LIKE '%MEDIUM%' THEN 1 END) AS VARCHAR) as medium_priority_quotes,\n    '$' || CAST(ROUND(SUM(CASE WHEN potential_savings > 0 THEN potential_savings ELSE 0 END), 0) AS VARCHAR) as total_potential_savings,\n    CAST(ROUND(AVG(price_variance_pct), 1) AS VARCHAR) || '%' as avg_price_variance_pct\nFROM daily_analysis\n\nUNION ALL\n\n-- Top Priority Items (biggest opportunities)\nSELECT \n    priority_level as report_section,\n    QUOTE_ID as total_quotes_analyzed,\n    PRODUCT_DESCRIPTION as high_priority_quotes,\n    '$' || CAST(ROUND(ABS(potential_savings), 0) AS VARCHAR) || ' savings opportunity' as medium_priority_quotes,\n    CAST(price_variance_pct AS VARCHAR) || '% vs historical ($' || CAST(historical_price AS VARCHAR) || ')' as total_potential_savings,\n    'Expires: ' || CAST(VALID_UNTIL AS VARCHAR) as avg_price_variance_pct\nFROM daily_analysis\nWHERE priority_level IN ('🔴 HIGH PRIORITY', '🟡 MEDIUM PRIORITY')\nORDER BY \n    CASE WHEN report_section LIKE '%SUMMARY%' THEN 1 \n         WHEN report_section LIKE '%HIGH%' THEN 2 \n         ELSE 3 END\nLIMIT 15;\n",
   "execution_count": null
  },
  {
   "cell_type": "code",
   "id": "029ae61e-965e-446a-95a6-9f09fc56c869",
   "metadata": {
    "language": "python",
    "name": "cell24",
    "codeCollapsed": false
   },
   "outputs": [],
   "source": "",
   "execution_count": null
  },
  {
   "cell_type": "code",
   "id": "9033772d-d48a-4dfa-9e41-733d6a074ba2",
   "metadata": {
    "language": "python",
    "name": "cell22",
    "codeCollapsed": false
   },
   "outputs": [],
   "source": "",
   "execution_count": null
  }
 ]
}