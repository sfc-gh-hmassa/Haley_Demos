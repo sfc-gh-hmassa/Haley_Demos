{
 "metadata": {
  "language_info": {
   "name": "python"
  },
  "lastEditStatus": {
   "notebookId": "eyy34oabi7yojkwyqrwn",
   "authorId": "3366391852320",
   "authorName": "HMASSA",
   "authorEmail": "haley.massa@snowflake.com",
   "sessionId": "3ea60167-7ede-40b1-86f5-053b92e5808e",
   "lastEditTime": 1755013053467
  }
 },
 "nbformat_minor": 2,
 "nbformat": 4,
 "cells": [
  {
   "cell_type": "markdown",
   "metadata": {
    "name": "cell1"
   },
   "source": [
    "# UNSPSC Hierarchical Classification with AI_CLASSIFY\n",
    "\n",
    "Demonstration of using AI_CLASSIFY for hierarchical product classification."
   ],
   "id": "ce110000-1111-2222-3333-ffffff000000"
  },
  {
   "cell_type": "code",
   "execution_count": null,
   "metadata": {
    "vscode": {
     "languageId": "sql"
    },
    "name": "cell2",
    "language": "sql"
   },
   "outputs": [],
   "source": [
    "USE DATABASE demodb;\n",
    "USE SCHEMA UNSPSC_CODE_PROJECT;"
   ],
   "id": "ce110000-1111-2222-3333-ffffff000001"
  },
  {
   "cell_type": "markdown",
   "metadata": {
    "name": "cell3"
   },
   "source": [
    "## Hierarchical Classification\n",
    "\n",
    "UNSPSC has 4 levels: Segment → Family → Class → Commodity\n",
    "\n",
    "Given segment and family codes, we predict the class using AI_CLASSIFY."
   ],
   "id": "ce110000-1111-2222-3333-ffffff000002"
  },
  {
   "cell_type": "markdown",
   "metadata": {
    "vscode": {
     "languageId": "raw"
    },
    "name": "cell4"
   },
   "source": [
    "## Ground Truth Hierarchy Table\n",
    "\n",
    "The UNSPSC_CODES_UNDP table stores the complete hierarchical taxonomy. This is valuable because:\n",
    "\n",
    "- **Grounded System**: AI_CLASSIFY uses real taxonomy codes, not made-up categories\n",
    "- **Search Space Reduction**: Instead of all possible classes, we only use classes that exist within a specific segment/family\n",
    "- **Easy Updates**: When UNSPSC releases new codes, just update the table\n",
    "- **Consistent Classifications**: Everyone uses the same standardized hierarchy\n"
   ],
   "id": "ce110000-1111-2222-3333-ffffff000003"
  },
  {
   "cell_type": "code",
   "execution_count": null,
   "metadata": {
    "vscode": {
     "languageId": "sql"
    },
    "name": "cell5",
    "language": "sql"
   },
   "outputs": [],
   "source": [
    "-- Example: Show how many classes are available for a specific segment/family\n",
    "SELECT \n",
    "    SEGMENT,\n",
    "    FAMILY, \n",
    "    SEGMENT_TITLE,\n",
    "    FAMILY_TITLE,\n",
    "    COUNT(DISTINCT CLASS) as classes_available,\n",
    "    COUNT(DISTINCT COMMODITY) as commodities_available\n",
    "FROM UNSPSC_CODES_UNDP \n",
    "WHERE SEGMENT = 10000000 AND FAMILY = 10100000  -- Live Animals example\n",
    "GROUP BY SEGMENT, FAMILY, SEGMENT_TITLE, FAMILY_TITLE;\n"
   ],
   "id": "ce110000-1111-2222-3333-ffffff000004"
  },
  {
   "cell_type": "code",
   "execution_count": null,
   "metadata": {
    "vscode": {
     "languageId": "sql"
    },
    "name": "cell6",
    "language": "sql"
   },
   "outputs": [],
   "source": [
    "-- Show the actual class options that would be passed to AI_CLASSIFY\n",
    "SELECT DISTINCT \n",
    "    CLASS,\n",
    "    CLASS_TITLE\n",
    "FROM UNSPSC_CODES_UNDP \n",
    "WHERE SEGMENT = 10000000 AND FAMILY = 10100000  -- Live Animals\n",
    "ORDER BY CLASS;\n"
   ],
   "id": "ce110000-1111-2222-3333-ffffff000005"
  },
  {
   "cell_type": "markdown",
   "metadata": {
    "name": "cell7"
   },
   "source": [
    "## Synthetic Test Products\n",
    "\n",
    "These are example products with known segment/family and ground truth class codes for testing."
   ],
   "id": "ce110000-1111-2222-3333-ffffff000006"
  },
  {
   "cell_type": "code",
   "execution_count": null,
   "metadata": {
    "vscode": {
     "languageId": "sql"
    },
    "name": "cell8",
    "language": "sql"
   },
   "outputs": [],
   "source": [
    "SELECT product_id, \n",
    "       product_description,\n",
    "       known_segment_code, \n",
    "       known_family_code,\n",
    "       actual_class_code\n",
    "FROM classification_test_products;"
   ],
   "id": "ce110000-1111-2222-3333-ffffff000007"
  },
  {
   "cell_type": "markdown",
   "metadata": {
    "name": "cell9"
   },
   "source": [
    "## AI Classification with CTE\n",
    "\n",
    "This uses Common Table Expressions (CTEs) to:\n",
    "1. Get test products\n",
    "2. Build class options array from UNSPSC data for each product's segment/family\n",
    "3. Call AI_CLASSIFY with the options\n",
    "\n",
    "To adapt: Change table names and column names for your data."
   ],
   "id": "ce110000-1111-2222-3333-ffffff000008"
  },
  {
   "cell_type": "code",
   "execution_count": null,
   "metadata": {
    "vscode": {
     "languageId": "sql"
    },
    "name": "cell10",
    "language": "sql"
   },
   "outputs": [],
   "source": "-- Create table with AI classification results\nCREATE OR REPLACE TABLE ai_classification_results AS\nWITH all_products AS (\n    SELECT \n        product_id,\n        product_description,\n        known_segment_code,\n        known_family_code,\n        actual_class_code\n    FROM classification_test_products\n),\nproducts_with_class_options AS (\n    SELECT \n        p.product_id,\n        p.product_description,\n        p.known_segment_code,\n        p.known_family_code,\n        p.actual_class_code,\n        ARRAY_AGG(DISTINCT u.CLASS_TITLE) as class_options_array,\n        COUNT(DISTINCT u.CLASS) as available_class_count\n    FROM all_products p\n    JOIN UNSPSC_CODES_UNDP u ON u.SEGMENT = p.known_segment_code \n                             AND u.FAMILY = p.known_family_code\n                             AND u.CLASS IS NOT NULL\n    GROUP BY p.product_id, p.product_description, p.known_segment_code, p.known_family_code, p.actual_class_code\n)\nSELECT \n    product_id,\n    product_description,\n    known_family_code,\n    actual_class_code as ground_truth_class_code,\n    available_class_count as search_space_size,\n    AI_CLASSIFY(product_description, class_options_array) as ai_classify_result\nFROM products_with_class_options\nORDER BY product_id;\n\nSelect * from ai_classification_results\nlimit 10;",
   "id": "ce110000-1111-2222-3333-ffffff000009"
  },
  {
   "cell_type": "markdown",
   "id": "9013d83d-3f27-4780-9bb8-6c558af072a9",
   "metadata": {
    "name": "cell14",
    "collapsed": false
   },
   "source": "## Pre-Process for Accuracy Evaluation \n\nAI_CLASSIFY returns class titles (like \"Livestock\") but our ground truth is class codes (like 10101500). We need to map the predicted labels back to class codes for comparison.\n"
  },
  {
   "cell_type": "code",
   "id": "6498f23d-23b5-4fc0-ba12-851863ef7736",
   "metadata": {
    "language": "sql",
    "name": "cell15"
   },
   "outputs": [],
   "source": "-- Create temporary table with mapped predictions\nCREATE OR REPLACE TEMPORARY TABLE accuracy_results AS\nSELECT \n    a.product_id,\n    a.known_family_code,\n    a.ground_truth_class_code,\n    a.search_space_size,\n    a.ai_classify_result:labels[0]::STRING as predicted_class_title,\n    u.CLASS as predicted_class_code\nFROM ai_classification_results a\nLEFT JOIN (SELECT DISTINCT CLASS, CLASS_TITLE FROM UNSPSC_CODES_UNDP) u \n    ON u.CLASS_TITLE = a.ai_classify_result:labels[0]::STRING;\n\nSelect * from accuracy_results;\n",
   "execution_count": null
  },
  {
   "cell_type": "markdown",
   "metadata": {
    "name": "cell11",
    "collapsed": false
   },
   "source": [
    "## Accuracy Detection\n",
    "\n",
    "Compare AI_CLASSIFY results with ground truth to measure accuracy."
   ],
   "id": "ce110000-1111-2222-3333-ffffff000010"
  },
  {
   "cell_type": "code",
   "execution_count": null,
   "metadata": {
    "vscode": {
     "languageId": "sql"
    },
    "name": "cell12",
    "language": "sql"
   },
   "outputs": [],
   "source": "-- General accuracy using preprocessed results\nSELECT \n    COUNT(*) as total_products,\n    COUNT(CASE WHEN predicted_class_code = ground_truth_class_code THEN 1 END) as correct_predictions,\n    ROUND(COUNT(CASE WHEN predicted_class_code = ground_truth_class_code THEN 1 END) * 100.0 / COUNT(*), 1) as accuracy_pct\nFROM accuracy_results;",
   "id": "ce110000-1111-2222-3333-ffffff000011"
  },
  {
   "cell_type": "code",
   "execution_count": null,
   "metadata": {
    "vscode": {
     "languageId": "sql"
    },
    "name": "cell13",
    "language": "sql",
    "codeCollapsed": false
   },
   "outputs": [],
   "source": "-- Per family accuracy using preprocessed results\nSELECT \n    known_family_code,\n    COUNT(*) as products_tested,\n    COUNT(CASE WHEN predicted_class_code = ground_truth_class_code THEN 1 END) as correct_predictions,\n    ROUND(COUNT(CASE WHEN predicted_class_code = ground_truth_class_code THEN 1 END) * 100.0 / COUNT(*), 1) as family_accuracy_pct\nFROM accuracy_results\nGROUP BY known_family_code\nORDER BY family_accuracy_pct DESC;",
   "id": "ce110000-1111-2222-3333-ffffff000012"
  }
 ]
}