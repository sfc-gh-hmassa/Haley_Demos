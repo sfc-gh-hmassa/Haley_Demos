{
 "metadata": {
  "kernelspec": {
   "display_name": "Streamlit Notebook",
   "name": "streamlit"
  },
  "lastEditStatus": {
   "notebookId": "mlsiytyyv544v4dl3iyo",
   "authorId": "3366391852320",
   "authorName": "HMASSA",
   "authorEmail": "haley.massa@snowflake.com",
   "sessionId": "124f0f0e-7080-4585-b490-b3d5e9cc14e4",
   "lastEditTime": 1757606952868
  }
 },
 "nbformat_minor": 5,
 "nbformat": 4,
 "cells": [
  {
   "cell_type": "code",
   "id": "3775908f-ca36-4846-8f38-5adca39217f2",
   "metadata": {
    "language": "python",
    "name": "cell1"
   },
   "source": "# Import python packages\nimport streamlit as st\nimport pandas as pd\n\n# We can also use Snowpark for our analyses!\nfrom snowflake.snowpark.context import get_active_session\nsession = get_active_session()\n",
   "execution_count": null,
   "outputs": []
  },
  {
   "cell_type": "markdown",
   "id": "12805052-b225-4ddf-b374-68810245c47a",
   "metadata": {
    "name": "cell4",
    "collapsed": false
   },
   "source": "# SQL Query Optimization and Semantic YAML Enhancement\n\nThis tool optimizes SQL queries and suggests improvements to semantic YAML files.\n\n**Requirements:**\n- `verified_queries.csv` with columns: `user_question`, `verified_query`\n- `semantic.yaml` with your current semantic model\n- Snowflake account with Cortex AI access"
  },
  {
   "cell_type": "code",
   "id": "8d50cbf4-0c8d-4950-86cb-114990437ac9",
   "metadata": {
    "language": "python",
    "name": "cell2"
   },
   "source": "# Load data\ndf_csv = pd.read_csv('verified_queries.csv')\nwith open('semantic.yaml', 'r') as f:\n    yaml_content = f.read()\n\nprint(f\"Loaded {len(df_csv)} queries and semantic YAML ({len(yaml_content)} chars)\")\n",
   "execution_count": null,
   "outputs": []
  },
  {
   "cell_type": "markdown",
   "id": "d811baca-1208-4307-a2bf-69638be0705c",
   "metadata": {
    "name": "cell5",
    "collapsed": false
   },
   "source": "# Phase 1: SQL Query Optimization\n\nOptimize SQL queries for performance and extract semantic metrics."
  },
  {
   "cell_type": "code",
   "id": "c695373e-ac74-4b62-a1f1-08206cbd5c81",
   "metadata": {
    "language": "python",
    "name": "cell3",
    "codeCollapsed": false
   },
   "source": "# Define optimization prompt\nOPTIMIZATION_PROMPT = \"\"\"Optimize this SQL query. Remove unnecessary subqueries/CTEs if possible. Identify tables used and suggest semantic metrics.\n\nRespond with valid JSON only:\n{\n  \"optimized_query\": \"optimized SQL here\",\n  \"tables_used\": [\"table1\", \"table2\"],\n  \"optimization_notes\": \"explanation of changes\",\n  \"suggested_metrics\": [\n    {\n      \"name\": \"metric_name\",\n      \"description\": \"what this measures\",\n      \"yaml_syntax\": \"- name: metric_name\\\\n  description: \\\\\"desc\\\\\"\\\\n  sql: \\\\\"expression\\\\\"\\\\n  data_type: NUMBER\"\n    }\n  ]\n}\n\nQuery: \"\"\"\n\ndef optimize_query(query_text):\n    prompt = OPTIMIZATION_PROMPT + query_text\n    result = session.sql(f\"SELECT SNOWFLAKE.CORTEX.COMPLETE('claude-3-5-sonnet', $${prompt}$$) as response\").collect()\n    return result[0]['RESPONSE']\n\nprint(\"Query optimization function ready\")\n",
   "execution_count": null,
   "outputs": []
  },
  {
   "cell_type": "code",
   "id": "a07545c3-273c-4eef-89a0-8234a13771fd",
   "metadata": {
    "language": "python",
    "name": "cell6"
   },
   "outputs": [],
   "source": "# Process queries\nresults = []\nfor _, row in df_csv.iterrows():\n    print(f\"Processing: {row['user_question'][:50]}...\")\n    \n    response = optimize_query(row['verified_query'])\n    \n    try:\n        data = json.loads(response)\n        results.append({\n            'user_question': row['user_question'],\n            'verified_query': row['verified_query'],\n            'optimized_query': data.get('optimized_query', ''),\n            'tables_used': data.get('tables_used', []),\n            'optimization_notes': data.get('optimization_notes', ''),\n            'suggested_metrics': data.get('suggested_metrics', [])\n        })\n    except:\n        results.append({\n            'user_question': row['user_question'],\n            'verified_query': row['verified_query'],\n            'optimized_query': 'Parse failed',\n            'tables_used': [],\n            'optimization_notes': response[:200],\n            'suggested_metrics': []\n        })\n\ndf_results = pd.DataFrame(results)\nprint(f\"Processed {len(results)} queries\")\n",
   "execution_count": null
  },
  {
   "cell_type": "code",
   "id": "1f127da7-89bd-4b8f-9efc-e4d65c180c32",
   "metadata": {
    "language": "python",
    "name": "cell7"
   },
   "outputs": [],
   "source": "# Display results table\ndisplay_df = df_results[['user_question', 'tables_used', 'optimization_notes']].copy()\ndisplay_df['user_question'] = display_df['user_question'].str[:60] + '...'\ndisplay_df['optimization_notes'] = display_df['optimization_notes'].str[:80] + '...'\n\nprint(\"OPTIMIZATION RESULTS\")\nprint(\"=\" * 100)\nprint(display_df.to_string(index=False))\nprint(\"=\" * 100)",
   "execution_count": null
  },
  {
   "cell_type": "code",
   "id": "63324307-2dd9-409f-8fb4-a0d0fe70eab8",
   "metadata": {
    "language": "python",
    "name": "cell8"
   },
   "outputs": [],
   "source": "",
   "execution_count": null
  },
  {
   "cell_type": "markdown",
   "id": "96524b5c-e93d-4ce8-8ab5-9a32349642f3",
   "metadata": {
    "name": "cell10",
    "collapsed": false
   },
   "source": "# Phase 2: Semantic YAML Analysis\n\nAnalyze semantic YAML against queries to extract business context and suggest improvements."
  },
  {
   "cell_type": "code",
   "id": "6bb8d828-3a09-4bb0-bcb3-d5ea7c702d78",
   "metadata": {
    "language": "python",
    "name": "cell9"
   },
   "outputs": [],
   "source": "# YAML Analysis\nYAML_PROMPT = \"\"\"Analyze this SQL query and user question against the semantic YAML. Extract business context and suggest improvements.\n\nRespond with valid JSON only:\n{\n  \"business_context\": {\n    \"domain\": \"business domain\",\n    \"key_concepts\": [\"term1\", \"term2\"],\n    \"implicit_definitions\": [\"concept: definition\"]\n  },\n  \"custom_instructions\": [\n    {\n      \"category\": \"BUSINESS_DEFINITIONS\",\n      \"instruction\": \"Define what X means\",\n      \"rationale\": \"Why this helps\"\n    }\n  ],\n  \"improvements\": [\n    {\n      \"type\": \"NEW_METRIC\",\n      \"yaml_code\": \"- name: metric\\\\n  sql: expression\",\n      \"location\": \"Add to metrics section\",\n      \"reason\": \"Why needed\"\n    }\n  ]\n}\n\nSQL: {query}\nQuestion: {question}\nYAML: {yaml}\n\"\"\"\n\ndef analyze_yaml(query, question, yaml_content):\n    prompt = YAML_PROMPT.format(query=query, question=question, yaml=yaml_content)\n    result = session.sql(f\"SELECT SNOWFLAKE.CORTEX.COMPLETE('claude-3-5-sonnet', $${prompt}$$) as response\").collect()\n    return result[0]['RESPONSE']\n\nprint(\"YAML analysis function ready\")\n",
   "execution_count": null
  },
  {
   "cell_type": "code",
   "id": "404b2ad2-5461-4ad8-851c-aa1a47e98c61",
   "metadata": {
    "language": "python",
    "name": "cell11"
   },
   "outputs": [],
   "source": "# Simple Table-Based YAML Analysis\n\ndef show_table_queries(table_name):\n    \"\"\"Show queries for a specific table\"\"\"\n    table_queries = []\n    for i, row in df_results.iterrows():\n        tables = row['tables_used']\n        if isinstance(tables, str):\n            tables = [t.strip() for t in tables.split(',')]\n        \n        if any(table_name.lower() in str(table).lower() for table in tables):\n            table_queries.append((i, row))\n    \n    if table_queries:\n        print(f\"Queries using table '{table_name}':\")\n        for idx, (orig_i, row) in enumerate(table_queries):\n            print(f\"{idx}. {row['user_question']}\")\n        print(f\"\\nUse: analyze_table_query('{table_name}', query_index, 'yaml_file.yaml')\")\n    else:\n        print(f\"No queries found for table: {table_name}\")\n\ndef analyze_table_query(table_name, query_index, yaml_file):\n    \"\"\"Analyze a specific query from a table\"\"\"\n    # Find queries for this table\n    table_queries = []\n    for i, row in df_results.iterrows():\n        tables = row['tables_used']\n        if isinstance(tables, str):\n            tables = [t.strip() for t in tables.split(',')]\n        \n        if any(table_name.lower() in str(table).lower() for table in tables):\n            table_queries.append((i, row))\n    \n    if query_index >= len(table_queries):\n        print(f\"Invalid index. Table '{table_name}' has {len(table_queries)} queries (0-{len(table_queries)-1})\")\n        return\n    \n    # Get the query\n    orig_i, row = table_queries[query_index]\n    \n    # Load YAML\n    with open(yaml_file, 'r') as f:\n        yaml_content = f.read()\n    \n    print(f\"Table: {table_name}\")\n    print(f\"Query: {row['user_question']}\")\n    print(f\"YAML: {yaml_file}\")\n    print(\"-\" * 50)\n    \n    # Run analysis with structured output\n    prompt = f\"\"\"Analyze this SQL query and user question against the semantic YAML. Extract business context and suggest improvements.\n\nRespond with valid JSON only:\n{{\n  \"business_context\": {{\n    \"domain\": \"business domain\",\n    \"key_concepts\": [\"term1\", \"term2\"]\n  }},\n  \"improvements\": [\n    {{\n      \"type\": \"NEW_METRIC\",\n      \"reason\": \"Why needed\",\n      \"location\": \"Add to metrics section\",\n      \"yaml_code\": \"- name: metric\\\\n  sql: expression\"\n    }}\n  ]\n}}\n\nSQL: {row['optimized_query']}\nQuestion: {row['user_question']}\nYAML: {yaml_content}\n\"\"\"\n    \n    result = session.sql(f\"SELECT SNOWFLAKE.CORTEX.COMPLETE('claude-3-5-sonnet', $${prompt}$$) as response\").collect()\n    response = result[0]['RESPONSE']\n    \n    # Parse JSON response with error handling\n    try:\n        import json\n        # Clean the response and try to extract JSON\n        clean_response = response.strip()\n        if clean_response.startswith('{'):\n            data = json.loads(clean_response)\n        else:\n            # Find JSON in response\n            start = clean_response.find('{')\n            end = clean_response.rfind('}') + 1\n            if start >= 0 and end > start:\n                json_part = clean_response[start:end]\n                data = json.loads(json_part)\n            else:\n                raise ValueError(\"No JSON found\")\n    except Exception as e:\n        print(f\"Could not parse JSON: {e}\")\n        print(\"Raw response:\", response[:500])\n        return\n    \n    # Show improvements\n    improvements = data.get('improvements', [])\n    if improvements:\n        print(\"YAML Improvements:\")\n        for i, imp in enumerate(improvements, 1):\n            print(f\"{i}. {imp.get('type', '')}: {imp.get('reason', '')}\")\n            if imp.get('yaml_code'):\n                print(f\"   Code: {imp.get('yaml_code', '')}\")\n            print()\n    else:\n        print(\"No improvements suggested\")\n\n# Show available tables\ntables = set()\nfor _, row in df_results.iterrows():\n    if isinstance(row['tables_used'], list):\n        tables.update(row['tables_used'])\n    else:\n        tables.update([t.strip() for t in str(row['tables_used']).split(',')])\n\nprint(\"Available tables:\", ', '.join(sorted(tables)))\nprint(\"Usage: show_table_queries('table_name')\")\nprint(\"Then: analyze_table_query('table_name', query_index, 'yaml_file.yaml')\")\n",
   "execution_count": null
  },
  {
   "cell_type": "code",
   "id": "b08bb1ad-4dee-44a7-9295-274a8fcab5f7",
   "metadata": {
    "language": "python",
    "name": "cell12",
    "codeCollapsed": false
   },
   "outputs": [],
   "source": "show_table_queries(\"customers\")",
   "execution_count": null
  },
  {
   "cell_type": "code",
   "id": "5cbf8e7f-e6af-4cfe-bf02-69f09e77165a",
   "metadata": {
    "language": "python",
    "name": "cell13",
    "codeCollapsed": false
   },
   "outputs": [],
   "source": "analyze_table_query(\"customers\", 0, \"semantic.yaml\")",
   "execution_count": null
  },
  {
   "cell_type": "code",
   "id": "7b1e251b-6cc4-4445-80db-50a0fa0b67dd",
   "metadata": {
    "language": "python",
    "name": "cell14",
    "codeCollapsed": false
   },
   "outputs": [],
   "source": "",
   "execution_count": null
  }
 ]
}