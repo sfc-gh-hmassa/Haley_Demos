{
  "cells": [
    {
      "cell_type": "raw",
      "metadata": {
        "vscode": {
          "languageId": "raw"
        }
      },
      "source": [
        "# 🌐 **Web Search Intelligence Demo**\n",
        "\n",
        "This notebook demonstrates exactly how the UNSPSC Classification System uses **intelligent web search** to enhance product understanding.\n",
        "\n",
        "## 🎯 **What This Demonstrates:**\n",
        "1. **LLM Extraction** - How the system intelligently identifies what to search for\n",
        "2. **Web Search** - DuckDuckGo search with the extracted terms\n",
        "3. **Intelligence Analysis** - How web results are analyzed for product insights\n",
        "4. **Enhanced Summaries** - How web intelligence improves product understanding\n",
        "\n",
        "---\n"
      ]
    },
    {
      "cell_type": "raw",
      "metadata": {
        "vscode": {
          "languageId": "raw"
        }
      },
      "source": [
        "## 🔗 **Step 1: Test Connection**\n"
      ]
    },
    {
      "cell_type": "code",
      "execution_count": null,
      "metadata": {},
      "outputs": [],
      "source": [
        "# Test Snowflake connection\n",
        "from config import test_connection\n",
        "\n",
        "print(\"🔍 Testing haleyconnect Snowflake connection...\")\n",
        "connection_success = test_connection(\"haleyconnect\")\n",
        "\n",
        "if connection_success:\n",
        "    print(\"✅ Connection successful! Ready to demonstrate web search intelligence.\")\n",
        "else:\n",
        "    print(\"❌ Connection failed. Please check your haleyconnect setup.\")\n"
      ]
    },
    {
      "cell_type": "raw",
      "metadata": {
        "vscode": {
          "languageId": "raw"
        }
      },
      "source": [
        "## 🧠 **Step 2: Initialize Components (Exactly as Classifier Uses)**\n",
        "\n",
        "This shows the same initialization as the classification chain:\n"
      ]
    },
    {
      "cell_type": "code",
      "execution_count": null,
      "metadata": {},
      "outputs": [],
      "source": [
        "# Import the same components used by the classifier\n",
        "from extractors import LLMProductExtractor, WebSearcher\n",
        "\n",
        "# Initialize exactly as the classification chain does\n",
        "print(\"🔧 Initializing components...\")\n",
        "\n",
        "# LLM extractor for intelligent term identification \n",
        "extractor = LLMProductExtractor()\n",
        "\n",
        "# Web searcher with same settings as classifier\n",
        "web_searcher = WebSearcher(max_searches=3, delay_between_searches=0.5)\n",
        "\n",
        "print(\"✅ Components initialized (same as classification chain)\")\n"
      ]
    },
    {
      "cell_type": "raw",
      "metadata": {
        "vscode": {
          "languageId": "raw"
        }
      },
      "source": [
        "## 🎯 **Step 3: Test Products (Modify These!)**\n",
        "\n",
        "**👆 CUSTOMIZE THESE EXAMPLES:**\n"
      ]
    },
    {
      "cell_type": "code",
      "execution_count": null,
      "metadata": {},
      "outputs": [],
      "source": [
        "# Test products - MODIFY THESE TO TEST YOUR OWN PRODUCTS!\n",
        "TEST_PRODUCTS = {\n",
        "    \"Industrial Pump\": \"Parker Hannifin P2075 hydraulic pump with 3000 PSI rating\",\n",
        "    \n",
        "    \"Technical Equipment\": \"Siemens S7-1200 CPU 1214C DC/DC/DC programmable logic controller\",\n",
        "    \n",
        "    \"Maintenance Record\": \"06H-100101-1 Performed scheduled preventative maintenance on hydraulic pump #3, checked fluid levels and inspected hoses for leaks\",\n",
        "    \n",
        "    \"Your Product #1\": \"REPLACE THIS WITH YOUR PRODUCT DESCRIPTION\",\n",
        "    \n",
        "    \"Your Product #2\": \"REPLACE THIS WITH ANOTHER PRODUCT TO TEST\"\n",
        "}\n",
        "\n",
        "print(\"📝 Test products loaded. Modify the dictionary above to test your own products!\")\n",
        "print(f\"   📊 Total test products: {len(TEST_PRODUCTS)}\")\n"
      ]
    },
    {
      "cell_type": "raw",
      "metadata": {
        "vscode": {
          "languageId": "raw"
        }
      },
      "source": [
        "## 🔍 **Step 4: Demonstrate Complete Web Search Flow**\n",
        "\n",
        "This follows the **exact same process** as the classification chain:\n"
      ]
    },
    {
      "cell_type": "code",
      "execution_count": null,
      "metadata": {},
      "outputs": [],
      "source": [
        "def demonstrate_web_search_intelligence(product_name, product_description):\n",
        "    \"\"\"\n",
        "    Demonstrate web search exactly as used by the classifier.\n",
        "    Shows all the data that gets returned and used.\n",
        "    \"\"\"\n",
        "    print(\"=\"*80)\n",
        "    print(f\"🎯 **{product_name}**\")\n",
        "    print(\"=\"*80)\n",
        "    print(f\"📝 Original: {product_description}\")\n",
        "    print()\n",
        "    \n",
        "    # STEP 1: LLM Extraction (exactly as classifier does)\n",
        "    print(\"🧠 **STEP 1: LLM EXTRACTION** (Finding what to search for)\")\n",
        "    print(\"-\" * 50)\n",
        "    \n",
        "    extracted_info = extractor.extract_all(product_description)\n",
        "    search_terms = extractor.get_search_terms(extracted_info)\n",
        "    \n",
        "    print(f\"📊 **EXTRACTION RESULTS:**\")\n",
        "    print(f\"   🏷️  Brands: {extracted_info.brand_names}\")\n",
        "    print(f\"   🔢  Models: {extracted_info.model_numbers}\")\n",
        "    print(f\"   📋  Serials: {extracted_info.serial_numbers}\")\n",
        "    print(f\"   🎯  Key Identifiers: {extracted_info.key_identifiers}\")\n",
        "    print(f\"   🌐  Search Worthy Terms: {extracted_info.search_worthy_terms}\")\n",
        "    print(f\"   🏭  Manufacturer: {extracted_info.manufacturer}\")\n",
        "    print(f\"   📈  Confidence: {extracted_info.confidence_scores.get('overall_extraction', 0.0):.1%}\")\n",
        "    print(f\"   🔍  Final Search Terms: {search_terms}\")\n",
        "    print()\n",
        "    \n",
        "    # STEP 2: Web Search (exactly as classifier does)\n",
        "    print(\"🌐 **STEP 2: WEB SEARCH** (DuckDuckGo Intelligence Gathering)\")\n",
        "    print(\"-\" * 50)\n",
        "    \n",
        "    web_info = web_searcher.search_product_info(search_terms)\n",
        "    \n",
        "    print(f\"📊 **WEB SEARCH RESULTS:**\")\n",
        "    print(f\"   📄  Total Results: {len(web_info.search_results)}\")\n",
        "    print(f\"   📂  Product Category: {web_info.product_category or 'Not identified'}\")\n",
        "    print(f\"   🎯  Applications: {web_info.applications or 'None identified'}\")\n",
        "    print(f\"   📏  Specifications: {web_info.specifications or 'None identified'}\")\n",
        "    print(f\"   📈  Analysis Confidence: {web_info.confidence}\")\n",
        "    print()\n",
        "    \n",
        "    # STEP 3: Individual Search Results (detailed view)\n",
        "    if web_info.search_results:\n",
        "        print(\"🔍 **DETAILED SEARCH RESULTS:**\")\n",
        "        print(\"-\" * 50)\n",
        "        \n",
        "        for i, result in enumerate(web_info.search_results[:6], 1):  # Show top 6\n",
        "            print(f\"   **Result #{i}:**\")\n",
        "            print(f\"      🔍 Query: {result.query}\")\n",
        "            print(f\"      📰 Title: {result.title[:80]}...\" if len(result.title) > 80 else f\"      📰 Title: {result.title}\")\n",
        "            print(f\"      📝 Snippet: {result.snippet[:120]}...\" if len(result.snippet) > 120 else f\"      📝 Snippet: {result.snippet}\")\n",
        "            print(f\"      🔗 URL: {result.url}\")\n",
        "            print(f\"      📊 Relevance: {result.relevance_score:.2f}\")\n",
        "            print()\n",
        "    \n",
        "    # STEP 4: Enhanced Summary (exactly as classifier creates)\n",
        "    print(\"📋 **STEP 3: ENHANCED SUMMARY** (How web intelligence enhances understanding)\")\n",
        "    print(\"-\" * 50)\n",
        "    \n",
        "    enhanced_summary = web_searcher.create_enhanced_summary(product_description, web_info)\n",
        "    print(f\"✨ **ENHANCED PRODUCT UNDERSTANDING:**\")\n",
        "    print(f\"   {enhanced_summary}\")\n",
        "    print()\n",
        "    \n",
        "    return {\n",
        "        'extracted_info': extracted_info,\n",
        "        'search_terms': search_terms,\n",
        "        'web_info': web_info,\n",
        "        'enhanced_summary': enhanced_summary\n",
        "    }\n",
        "\n",
        "print(\"✅ Web search demonstration function ready!\")\n"
      ]
    },
    {
      "cell_type": "raw",
      "metadata": {
        "vscode": {
          "languageId": "raw"
        }
      },
      "source": [
        "## 🚀 **Step 5: Run Web Search Demonstrations**\n",
        "\n",
        "**This shows the exact same data the classifier sees and uses:**\n"
      ]
    },
    {
      "cell_type": "code",
      "execution_count": null,
      "metadata": {},
      "outputs": [],
      "source": [
        "# Demonstrate web search for all test products\n",
        "results = {}\n",
        "\n",
        "for product_name, product_description in TEST_PRODUCTS.items():\n",
        "    if \"REPLACE THIS\" not in product_description:  # Skip placeholder examples\n",
        "        try:\n",
        "            results[product_name] = demonstrate_web_search_intelligence(product_name, product_description)\n",
        "        except Exception as e:\n",
        "            print(f\"❌ Error processing {product_name}: {e}\")\n",
        "            print()\n",
        "\n",
        "print(f\"🎉 **DEMONSTRATION COMPLETE!** Processed {len(results)} products.\")\n"
      ]
    },
    {
      "cell_type": "raw",
      "metadata": {
        "vscode": {
          "languageId": "raw"
        }
      },
      "source": [
        "## 📊 **Step 6: Summary Analysis**\n",
        "\n",
        "**Overview of what the web search intelligence discovered:**\n"
      ]
    },
    {
      "cell_type": "code",
      "execution_count": null,
      "metadata": {},
      "outputs": [],
      "source": [
        "print(\"📊 **WEB SEARCH INTELLIGENCE SUMMARY**\")\n",
        "print(\"=\" * 60)\n",
        "\n",
        "total_searches = 0\n",
        "total_results = 0\n",
        "categories_found = set()\n",
        "applications_found = set()\n",
        "specifications_found = set()\n",
        "\n",
        "for product_name, result_data in results.items():\n",
        "    web_info = result_data['web_info']\n",
        "    search_terms = result_data['search_terms']\n",
        "    \n",
        "    total_searches += len(search_terms)\n",
        "    total_results += len(web_info.search_results)\n",
        "    \n",
        "    if web_info.product_category:\n",
        "        categories_found.add(web_info.product_category)\n",
        "    \n",
        "    applications_found.update(web_info.applications)\n",
        "    specifications_found.update(web_info.specifications)\n",
        "    \n",
        "    print(f\"🎯 **{product_name}:**\")\n",
        "    print(f\"   🔍 Search Terms: {len(search_terms)}\")\n",
        "    print(f\"   📄 Web Results: {len(web_info.search_results)}\")\n",
        "    print(f\"   📂 Category: {web_info.product_category or 'None'}\")\n",
        "    print(f\"   📈 Confidence: {web_info.confidence}\")\n",
        "    print()\n",
        "\n",
        "print(f\"📈 **OVERALL STATISTICS:**\")\n",
        "print(f\"   🔍 Total Search Terms Used: {total_searches}\")\n",
        "print(f\"   📄 Total Web Results Found: {total_results}\")\n",
        "print(f\"   📂 Product Categories Identified: {len(categories_found)}\")\n",
        "print(f\"   🎯 Applications Discovered: {len(applications_found)}\")\n",
        "print(f\"   📏 Specifications Found: {len(specifications_found)}\")\n",
        "print()\n",
        "\n",
        "if categories_found:\n",
        "    print(f\"📂 **Categories Found:** {', '.join(sorted(categories_found))}\")\n",
        "if applications_found:\n",
        "    print(f\"🎯 **Applications Found:** {', '.join(sorted(applications_found))}\")\n",
        "if specifications_found:\n",
        "    print(f\"📏 **Specifications Found:** {', '.join(sorted(specifications_found))}\")\n"
      ]
    },
    {
      "cell_type": "raw",
      "metadata": {
        "vscode": {
          "languageId": "raw"
        }
      },
      "source": [
        "## 🔧 **Step 7: Test Your Own Product**\n",
        "\n",
        "**Quick test for a single product:**\n"
      ]
    },
    {
      "cell_type": "code",
      "execution_count": null,
      "metadata": {},
      "outputs": [],
      "source": [
        "# Test a single custom product\n",
        "CUSTOM_PRODUCT = \"Put your product description here!\"\n",
        "\n",
        "if \"Put your product\" not in CUSTOM_PRODUCT:\n",
        "    print(\"🎯 Testing your custom product...\")\n",
        "    custom_result = demonstrate_web_search_intelligence(\"Your Custom Product\", CUSTOM_PRODUCT)\n",
        "else:\n",
        "    print(\"💡 Replace CUSTOM_PRODUCT above with your product description to test!\")\n",
        "    print(\"   Example: 'Caterpillar C13 diesel engine 350HP industrial'\")\n"
      ]
    },
    {
      "cell_type": "raw",
      "metadata": {
        "vscode": {
          "languageId": "raw"
        }
      },
      "source": [
        "## 🎉 **Summary: How Web Search Enhances Classification**\n",
        "\n",
        "This notebook demonstrated the **exact web search process** used by the UNSPSC Classification System:\n",
        "\n",
        "### 🧠 **Intelligence Extraction:**\n",
        "- LLM identifies the most **search-worthy terms** from any product description\n",
        "- No hardcoded lists - works on any product type\n",
        "- Focuses on terms most likely to yield useful web intelligence\n",
        "\n",
        "### 🌐 **Web Search Process:**\n",
        "- Uses **DuckDuckGo** for real web search (no API keys needed)\n",
        "- Searches multiple intelligent terms with proper rate limiting\n",
        "- Analyzes results for **product categories, applications, specifications**\n",
        "\n",
        "### 📊 **Intelligence Analysis:**\n",
        "- **Product Category Detection** - pump, valve, motor, sensor, etc.\n",
        "- **Application Identification** - industrial, automotive, aerospace, etc.\n",
        "- **Specification Extraction** - pressure systems, flow control, etc.\n",
        "- **Confidence Scoring** - evaluates the reliability of findings\n",
        "\n",
        "### ✨ **Enhanced Understanding:**\n",
        "- **Enriched Product Summaries** - combines original + web intelligence\n",
        "- **Better Classification Context** - helps LLM make more accurate UNSPSC decisions\n",
        "- **Real-World Validation** - confirms product understanding with current web data\n",
        "\n",
        "---\n",
        "\n",
        "**🚀 This is the same intelligence that powers the full classification system!**\n",
        "\n",
        "The classifier uses this enhanced understanding to make more accurate UNSPSC classifications by combining:\n",
        "- Original product descriptions\n",
        "- LLM-extracted key identifiers  \n",
        "- Web-gathered product intelligence\n",
        "- Real-world context and specifications\n"
      ]
    }
  ],
  "metadata": {
    "language_info": {
      "name": "python"
    }
  },
  "nbformat": 4,
  "nbformat_minor": 2
}
