{
 "cells": [
  {
   "cell_type": "markdown",
   "metadata": {},
   "source": [
    "# 🧠 **UNSPSC Classification System - Enhanced Demo**\n",
    "\n",
    "## **🔍 Detailed Process View with Web Search & Classification Steps**\n",
    "\n",
    "This enhanced demo shows **every step** of the classification process:\n",
    "\n",
    "- 🔍 **Web search results** when products need additional context\n",
    "- 🎯 **Segment classification** details and reasoning  \n",
    "- 📊 **Complete hierarchy progression** from segment to commodity\n",
    "- 🧠 **Reflection decisions** with full reasoning\n",
    "- ✅ **Final 8-digit codes** (commodity or class+00)\n",
    "\n",
    "### **📋 Instructions:**\n",
    "1. **Run each cell in order** (Shift+Enter)\n",
    "2. **Observe detailed process output** including web search results\n",
    "3. **Modify products in Interactive Section** to see different scenarios"
   ]
  },
  {
   "cell_type": "code",
   "execution_count": 1,
   "metadata": {
    "execution": {
     "iopub.execute_input": "2025-08-01T15:57:35.802660Z",
     "iopub.status.busy": "2025-08-01T15:57:35.802535Z",
     "iopub.status.idle": "2025-08-01T15:57:35.809731Z",
     "shell.execute_reply": "2025-08-01T15:57:35.809356Z"
    }
   },
   "outputs": [
    {
     "name": "stdout",
     "output_type": "stream",
     "text": [
      "🔧 Setup complete!\n",
      "📁 Working directory: /Users/hmassa/Documents/Haley_Demos/unspsc_full_hierarchy_system\n",
      "🔍 Ready for enhanced process demo!\n"
     ]
    }
   ],
   "source": [
    "# 🔧 Setup and Imports\n",
    "import sys\n",
    "import os\n",
    "from pathlib import Path\n",
    "import time\n",
    "\n",
    "# Add current directory to path for imports\n",
    "current_dir = Path.cwd()\n",
    "if current_dir.name != \"unspsc_full_hierarchy_system\":\n",
    "    system_dir = current_dir / \"unspsc_full_hierarchy_system\"\n",
    "    if system_dir.exists():\n",
    "        os.chdir(system_dir)\n",
    "        \n",
    "sys.path.insert(0, str(Path.cwd()))\n",
    "\n",
    "print(\"🔧 Setup complete!\")\n",
    "print(f\"📁 Working directory: {Path.cwd()}\")\n",
    "print(\"🔍 Ready for enhanced process demo!\")"
   ]
  },
  {
   "cell_type": "code",
   "execution_count": 3,
   "metadata": {
    "execution": {
     "iopub.execute_input": "2025-08-01T15:57:35.834925Z",
     "iopub.status.busy": "2025-08-01T15:57:35.834781Z",
     "iopub.status.idle": "2025-08-01T15:57:39.618606Z",
     "shell.execute_reply": "2025-08-01T15:57:39.618266Z"
    }
   },
   "outputs": [
    {
     "name": "stdout",
     "output_type": "stream",
     "text": [
      "🔍 Testing haleyconnect Snowflake connection...\n",
      "🧪 Testing Snowflake Connection\n",
      "========================================\n",
      "🔗 Connecting to Snowflake using haleyconnect...\n",
      "❌ Snowflake connection failed: 250001 (08001): Failed to connect to DB: sfsenorthamerica-hmassa_aws1.snowflakecomputing.com:443. Incoming request with IP/Token 67.244.89.150 is not allowed to access Snowflake. Contact your account administrator. For more information about this error, go to https://community.snowflake.com/s/ip-xxxxxxxxxxxx-is-not-allowed-to-access.\n",
      "\n",
      "🔧 SETUP INSTRUCTIONS:\n",
      "1. Ensure ~/.snowflake/connections.toml exists\n",
      "2. Ensure haleyconnect section is configured\n",
      "3. Ensure private key file exists and is accessible\n",
      "❌ Connection test failed: 250001 (08001): Failed to connect to DB: sfsenorthamerica-hmassa_aws1.snowflakecomputing.com:443. Incoming request with IP/Token 67.244.89.150 is not allowed to access Snowflake. Contact your account administrator. For more information about this error, go to https://community.snowflake.com/s/ip-xxxxxxxxxxxx-is-not-allowed-to-access.\n",
      "❌ Connection failed. Please check your haleyconnect setup.\n"
     ]
    }
   ],
   "source": [
    "# 🔍 Test Connection\n",
    "from config import test_connection\n",
    "\n",
    "print(\"🔍 Testing haleyconnect Snowflake connection...\")\n",
    "connection_success = test_connection(\"haleyconnect\")\n",
    "\n",
    "if connection_success:\n",
    "    print(\"✅ Connection successful! Ready to classify with full process display.\")\n",
    "else:\n",
    "    print(\"❌ Connection failed. Please check your haleyconnect setup.\")"
   ]
  },
  {
   "cell_type": "code",
   "execution_count": 3,
   "metadata": {
    "execution": {
     "iopub.execute_input": "2025-08-01T15:57:39.620800Z",
     "iopub.status.busy": "2025-08-01T15:57:39.620559Z",
     "iopub.status.idle": "2025-08-01T15:57:39.648949Z",
     "shell.execute_reply": "2025-08-01T15:57:39.648595Z"
    }
   },
   "outputs": [
    {
     "name": "stdout",
     "output_type": "stream",
     "text": [
      "🚀 Initializing enhanced classification system...\n",
      "✅ All agents initialized successfully\n",
      "✅ System ready with enhanced display functions!\n"
     ]
    }
   ],
   "source": [
    "# 🚀 Initialize System with Enhanced Display Functions\n",
    "from chain.classification_chain import UNSPSCClassificationChain\n",
    "\n",
    "def display_web_search_results(result):\n",
    "    \"\"\"Display detailed web search results if available\"\"\"\n",
    "    if not result.web_search_results:\n",
    "        print(\"🌐 Web Search: Not performed (sufficient information available)\")\n",
    "        return\n",
    "    \n",
    "    web_info = result.web_search_results\n",
    "    print(\"🌐 WEB SEARCH RESULTS:\")\n",
    "    print(\"=\" * 40)\n",
    "    \n",
    "    if hasattr(web_info, 'search_results') and web_info.search_results:\n",
    "        for i, search_result in enumerate(web_info.search_results[:3], 1):\n",
    "            print(f\"🔍 Result {i}:\")\n",
    "            print(f\"   Query: {search_result.query}\")\n",
    "            print(f\"   Title: {search_result.title[:80]}...\")\n",
    "            print(f\"   Snippet: {search_result.snippet[:120]}...\")\n",
    "            print(f\"   Source: {search_result.url}\")\n",
    "            print()\n",
    "    else:\n",
    "        print(\"   No specific search results available\")\n",
    "    \n",
    "    # Display aggregated intelligence\n",
    "    if hasattr(web_info, 'product_category') and web_info.product_category:\n",
    "        print(f\"📋 Product Category: {web_info.product_category}\")\n",
    "    if hasattr(web_info, 'applications') and web_info.applications:\n",
    "        print(f\"🎯 Applications: {', '.join(web_info.applications)}\")\n",
    "    if hasattr(web_info, 'specifications') and web_info.specifications:\n",
    "        print(f\"📏 Specifications: {', '.join(web_info.specifications)}\")\n",
    "    print()\n",
    "\n",
    "def display_segment_classification(result):\n",
    "    \"\"\"Display detailed segment classification\"\"\"\n",
    "    print(\"🎯 SEGMENT CLASSIFICATION:\")\n",
    "    print(\"=\" * 40)\n",
    "    \n",
    "    if result.segment_code and result.segment_description:\n",
    "        print(f\"✅ Classified into Segment: {result.segment_code}\")\n",
    "        print(f\"📋 Description: {result.segment_description}\")\n",
    "        print(f\"📊 Confidence: {getattr(result, 'segment_confidence', 'Not specified')}\")\n",
    "    else:\n",
    "        print(\"❌ Segment classification failed\")\n",
    "    print()\n",
    "\n",
    "def display_complete_process(product_name, result):\n",
    "    \"\"\"Display the complete classification process\"\"\"\n",
    "    print(f\"🏷️ PRODUCT: {product_name}\")\n",
    "    print(f\"📝 Original: {result.original_description}\")\n",
    "    print(f\"🔍 Enhanced: {result.enhanced_summary[:150]}...\")\n",
    "    print(\"=\" * 60)\n",
    "    \n",
    "    # Show extracted identifiers\n",
    "    if result.extracted_identifiers:\n",
    "        print(\"🔧 EXTRACTED IDENTIFIERS:\")\n",
    "        extracted = result.extracted_identifiers\n",
    "        if hasattr(extracted, 'brand_names') and extracted.brand_names:\n",
    "            print(f\"   🏢 Brands: {', '.join(extracted.brand_names)}\")\n",
    "        if hasattr(extracted, 'model_numbers') and extracted.model_numbers:\n",
    "            print(f\"   🔢 Models: {', '.join(extracted.model_numbers)}\")\n",
    "        if hasattr(extracted, 'manufacturer') and extracted.manufacturer:\n",
    "            print(f\"   🏭 Manufacturer: {extracted.manufacturer}\")\n",
    "        print()\n",
    "    \n",
    "    # Show web search results\n",
    "    display_web_search_results(result)\n",
    "    \n",
    "    # Show segment classification\n",
    "    display_segment_classification(result)\n",
    "    \n",
    "    # Show hierarchy progression\n",
    "    print(\"📊 HIERARCHY PROGRESSION:\")\n",
    "    print(\"=\" * 40)\n",
    "    if result.segment_code:\n",
    "        print(f\"   Segment: {result.segment_code} - {result.segment_description}\")\n",
    "    if result.family_code:\n",
    "        print(f\"   Family:  {result.family_code} - {result.family_description}\")\n",
    "    if result.class_code:\n",
    "        print(f\"   Class:   {result.class_code} - {result.class_description}\")\n",
    "    if result.commodity_code:\n",
    "        print(f\"   Commodity: {result.commodity_code} - {result.commodity_description}\")\n",
    "    print()\n",
    "    \n",
    "    # Show reflection decision\n",
    "    print(\"🧠 REFLECTION DECISION:\")\n",
    "    print(\"=\" * 40)\n",
    "    print(f\"   Final Level: {result.classification_level.upper()}\")\n",
    "    print(f\"   8-digit Code: {result.complete_unspsc_code}\")\n",
    "    print(f\"   Confidence: {result.confidence}\")\n",
    "    \n",
    "    if result.classification_level == \"commodity\":\n",
    "        print(\"   ✅ Used commodity level - specific match found\")\n",
    "    else:\n",
    "        print(\"   🔄 Used class level (padded) - commodity not specific enough\")\n",
    "    print()\n",
    "\n",
    "print(\"🚀 Initializing enhanced classification system...\")\n",
    "classifier = UNSPSCClassificationChain()\n",
    "print(\"✅ System ready with enhanced display functions!\")"
   ]
  },
  {
   "cell_type": "markdown",
   "metadata": {},
   "source": [
    "## 🎯 **Example 1: Product Requiring Web Search**\n",
    "\n",
    "This example uses a **specific product** that will trigger web search to gather additional context:"
   ]
  },
  {
   "cell_type": "code",
   "execution_count": 4,
   "metadata": {
    "execution": {
     "iopub.execute_input": "2025-08-01T15:57:39.650737Z",
     "iopub.status.busy": "2025-08-01T15:57:39.650617Z",
     "iopub.status.idle": "2025-08-01T15:57:59.897161Z",
     "shell.execute_reply": "2025-08-01T15:57:59.896534Z"
    }
   },
   "outputs": [
    {
     "name": "stdout",
     "output_type": "stream",
     "text": [
      "🎯 EXAMPLE 1: Product with Web Search Enhancement\n",
      "======================================================================\n",
      "Product: Parker Hannifin P2075-31CC hydraulic pump\n",
      "\n",
      "\n",
      "🚀 STARTING UNSPSC CLASSIFICATION CHAIN\n",
      "============================================================\n",
      "📝 Product: Parker Hannifin P2075-31CC hydraulic pump...\n",
      "============================================================\n",
      "\n",
      "🔍 STEP 1: Extracting Product Identifiers\n",
      "🧠 Intelligently extracting product identifiers with Snowflake LLM...\n"
     ]
    },
    {
     "name": "stdout",
     "output_type": "stream",
     "text": [
      "🔍 LLM Response: Here is the extracted information in JSON format:\n",
      "\n",
      "```\n",
      "{\n",
      "    \"brand_names\": [\"Parker Hannifin\"],\n",
      "    \"model_numbers\": [\"P2075-31CC\"],\n",
      "    \"serial_numbers\": [],\n",
      "    \"part_numbers\": [\"P2075-31CC\"],\n",
      "    ...\n",
      "✅ Intelligent extraction completed:\n",
      "   📛 Brands: ['Parker Hannifin']\n",
      "   🔢 Models: ['P2075-31CC']\n",
      "   🏷️ Serials: []\n",
      "   🎯 Key Identifiers: []\n",
      "   🌐 Search Worthy: ['hydraulic pump', 'Parker Hannifin P2075', 'P2075-31CC']\n",
      "   🏭 Manufacturer: Parker Hannifin\n",
      "   🎯 Overall Confidence: 80.0%\n",
      "\n",
      "🌐 STEP 2: Web Search Intelligence Gathering\n",
      "🌐 Using intelligent search terms:\n",
      "   • hydraulic pump\n",
      "   • Parker Hannifin P2075\n",
      "   • P2075-31CC\n",
      "🌐 Searching web for product information...\n",
      "   Search terms: ['Parker Hannifin P2075-31CC', 'Parker Hannifin P2075', 'hydraulic pump']...\n",
      "✅ DuckDuckGo search initialized\n",
      "   🔍 Searching: Parker Hannifin P2075-31CC\n"
     ]
    },
    {
     "name": "stdout",
     "output_type": "stream",
     "text": [
      "   🔍 Searching: Parker Hannifin P2075\n"
     ]
    },
    {
     "name": "stdout",
     "output_type": "stream",
     "text": [
      "   🔍 Searching: hydraulic pump\n"
     ]
    },
    {
     "name": "stdout",
     "output_type": "stream",
     "text": [
      "✅ Web search completed\n",
      "   📄 Found 9 results\n",
      "   📂 Product category: pump\n",
      "\n",
      "📋 STEP 3: Creating Enhanced Product Summary\n",
      "📋 Creating enhanced product summary...\n",
      "✅ Enhanced product summary created\n",
      "   📝 Length: 304 characters\n",
      "\n",
      "🎯 STEP 4: Hierarchical UNSPSC Classification\n",
      "   🎯 Classifying Segment...\n",
      "🎯 Classifying UNSPSC Segment...\n"
     ]
    },
    {
     "name": "stdout",
     "output_type": "stream",
     "text": [
      "✅ Loaded 58 UNSPSC segments from database\n",
      "🗄️ Segment classifier loaded 58 segments\n",
      "📋 Using 58 available segments for classification\n"
     ]
    },
    {
     "name": "stdout",
     "output_type": "stream",
     "text": [
      "🔍 LLM Classification Response: Based on the product description, I would classify this product into the following UNSPSC segment:\n",
      "\n",
      "{\n",
      "\"segment_code\": \"40\",\n",
      "\"segment_description\": \"Distribution and Conditioning Systems\",\n",
      "\"confidence\"...\n",
      "✅ Segment classified: 40 - Distribution and Conditioning Systems and Equipment and Components\n",
      "   ✅ Segment: 40 - Distribution and Conditioning Systems and Equipment and Components\n",
      "   🎯 Classifying Family...\n",
      "🎯 Classifying UNSPSC Family for segment 40...\n"
     ]
    },
    {
     "name": "stdout",
     "output_type": "stream",
     "text": [
      "✅ Loaded 6 families for segment 40\n",
      "🗄️ Family classifier loaded 6 families for segment 40\n",
      "📋 Using 6 available families for classification\n"
     ]
    },
    {
     "name": "stdout",
     "output_type": "stream",
     "text": [
      "🔍 Family LLM Response: The correct classification is:\n",
      "\n",
      "{\n",
      "\"family_code\": \"4015\",\n",
      "\"family_description\": \"Industrial pumps and compressors\",\n",
      "\"confidence\": \"High\"\n",
      "}\n",
      "\n",
      "The product, a hydraulic pump, falls under the UNSPSC family ...\n",
      "✅ Family classified: 4015 - Industrial pumps and compressors\n",
      "   ✅ Family: 4015 - Industrial pumps and compressors\n",
      "   🎯 Classifying Class...\n",
      "🎯 Classifying UNSPSC Class for family 4015...\n"
     ]
    },
    {
     "name": "stdout",
     "output_type": "stream",
     "text": [
      "✅ Loaded 4 classes for family 4015\n",
      "🗄️ Class classifier loaded 4 classes for family 4015\n"
     ]
    },
    {
     "name": "stdout",
     "output_type": "stream",
     "text": [
      "🔍 LLM Classification Response: {\n",
      "\"class_code\": \"401515\",\n",
      "\"class_description\": \"Pumps\",\n",
      "\"confidence\": \"High\",\n",
      "\"reasoning\": \"The product is a hydraulic pump, which directly matches the description of UNSPSC class 401515.\"\n",
      "}...\n",
      "✅ Class classified: 401515 - Pumps\n",
      "   ✅ Class: 401515 - Pumps\n",
      "   🎯 Classifying Commodity...\n",
      "🎯 Classifying UNSPSC Commodity...\n"
     ]
    },
    {
     "name": "stdout",
     "output_type": "stream",
     "text": [
      "✅ Loaded 77 commodities for class 401515\n",
      "🗄️ Commodity classifier loaded 77 commodities for class 401515\n",
      "📋 Using 77 available commodities for classification\n"
     ]
    },
    {
     "name": "stdout",
     "output_type": "stream",
     "text": [
      "🔍 LLM Classification Response: The correct classification is:\n",
      "\n",
      "{\n",
      "    \"commodity_code\": \"40151801\",\n",
      "    \"commodity_description\": \"Hydraulic pumps\",\n",
      "    \"confidence\": \"High\"\n",
      "}\n",
      "\n",
      "Note: The available commodities provided do not include ...\n",
      "⚠️ Commodity code 40151801 not found or doesn't belong to class 401515\n",
      "🔄 Using commodity fallback classification for class 401515...\n",
      "   🧠 Performing commodity reflection...\n",
      "   🧠 Low confidence, weak match - staying at class level\n",
      "   ⚠️ Reflection: No specific commodity match - staying at class level\n",
      "   🎯 Will return 8-digit class code: 40151500\n",
      "\n",
      "🏆 HIGHEST LEVEL ACHIEVED: 401515\n",
      "📋 Description: Pumps\n",
      "📊 Level: Class\n",
      "🎯 Confidence: Medium (Class level - low commodity confidence)\n",
      "🏆 COMPLETE 8-DIGIT CODE: 40151500\n",
      "   📝 Note: Class-level result padded to 8 digits (401515 + 00)\n",
      "\n",
      "🎯 COMPLETE UNSPSC HIERARCHY:\n",
      "==================================================\n",
      "🟦 SEGMENT   : 40 - Distribution and Conditioning Systems and Equipment and Components\n",
      "🟩 FAMILY    : 4015 - Industrial pumps and compressors\n",
      "🟨 CLASS     : 401515 - Pumps\n",
      "==================================================\n",
      "🏆 COMPLETE CODE: 40151500\n",
      "\n",
      "✅ CLASSIFICATION CHAIN COMPLETED\n",
      "============================================================\n",
      "\n",
      "🏷️ PRODUCT: Example 1\n",
      "📝 Original: Parker Hannifin P2075-31CC hydraulic pump\n",
      "🔍 Enhanced: Product Description: Parker Hannifin P2075-31CC hydraulic pump | Manufacturer: Parker Hannifin | Brand(s): Parker Hannifin | Model Number(s): P2075-31...\n",
      "============================================================\n",
      "🔧 EXTRACTED IDENTIFIERS:\n",
      "   🏢 Brands: Parker Hannifin\n",
      "   🔢 Models: P2075-31CC\n",
      "   🏭 Manufacturer: Parker Hannifin\n",
      "\n",
      "🌐 WEB SEARCH RESULTS:\n",
      "========================================\n",
      "🔍 Result 1:\n",
      "   Query: Parker Hannifin P2075-31CC\n",
      "   Title: Wikipedia Parker Hannifin - Wikipedia...\n",
      "   Snippet: June 19, 2025 - Parker - Hannifin Corporation, originally Parker Appliance Company, usually referred to as just Parker ,...\n",
      "   Source: https://en.wikipedia.org/wiki/Parker_Hannifin\n",
      "\n",
      "🔍 Result 2:\n",
      "   Query: Parker Hannifin P2075-31CC\n",
      "   Title: Parker Parker...\n",
      "   Snippet: Discover how Parker is engineering solutions that enable a cleaner and more sustainable tomorrow....\n",
      "   Source: https://www.parker.com/content/dam/Parker-com/Literature/Literature-Files/Hydraulic-Pump-Division/Service-Literature/P2---P3/P2075Parts.pdf\n",
      "\n",
      "🔍 Result 3:\n",
      "   Query: Parker Hannifin P2075-31CC\n",
      "   Title: Lifcohydraulics Hydraulic P2075 SERIES | Supplier for Parker, Denison and Linde...\n",
      "   Snippet: PART NUMBER P2075R00C1C17LA20N00S1A4U MANUFACTURER Parker DESCRIPTION PISTON PUMP REAR PUMP NET PRICE $5,940.00 (USD) QT...\n",
      "   Source: https://www.lifcohydraulics.com/Products/5f1af985ceca7223d5fb6fd6\n",
      "\n",
      "📋 Product Category: pump\n",
      "🎯 Applications: industrial\n",
      "📏 Specifications: pressure system, flow control\n",
      "\n",
      "🎯 SEGMENT CLASSIFICATION:\n",
      "========================================\n",
      "✅ Classified into Segment: 40\n",
      "📋 Description: Distribution and Conditioning Systems and Equipment and Components\n",
      "📊 Confidence: Not specified\n",
      "\n",
      "📊 HIERARCHY PROGRESSION:\n",
      "========================================\n",
      "   Segment: 40 - Distribution and Conditioning Systems and Equipment and Components\n",
      "   Family:  4015 - Industrial pumps and compressors\n",
      "   Class:   401515 - Pumps\n",
      "\n",
      "🧠 REFLECTION DECISION:\n",
      "========================================\n",
      "   Final Level: CLASS\n",
      "   8-digit Code: 40151500\n",
      "   Confidence: Medium (Class level - low commodity confidence)\n",
      "   🔄 Used class level (padded) - commodity not specific enough\n",
      "\n",
      "📊 FINAL VALIDATION:\n",
      "   8-digit code: ✅\n",
      "   Min class level: ✅\n",
      "   Web search performed: ✅\n",
      "   Segment classified: ✅\n"
     ]
    }
   ],
   "source": [
    "# 🎯 Example 1: Product that should trigger web search\n",
    "product_with_search = \"Parker Hannifin P2075-31CC hydraulic pump\"\n",
    "\n",
    "print(\"🎯 EXAMPLE 1: Product with Web Search Enhancement\")\n",
    "print(\"=\" * 70)\n",
    "print(f\"Product: {product_with_search}\")\n",
    "print()\n",
    "\n",
    "# Classify and show complete process\n",
    "result1 = classifier.classify_product(product_with_search)\n",
    "print()\n",
    "display_complete_process(\"Example 1\", result1)\n",
    "\n",
    "print(\"📊 FINAL VALIDATION:\")\n",
    "print(f\"   8-digit code: {'✅' if len(result1.complete_unspsc_code) == 8 else '❌'}\")\n",
    "print(f\"   Min class level: {'✅' if result1.classification_level in ['class', 'commodity'] else '❌'}\")\n",
    "print(f\"   Web search performed: {'✅' if result1.web_search_results else '❌'}\")\n",
    "print(f\"   Segment classified: {'✅' if result1.segment_code else '❌'}\")"
   ]
  },
  {
   "cell_type": "markdown",
   "metadata": {},
   "source": [
    "## 🔄 **Example 2: Generic Product with Minimal Web Search**\n",
    "\n",
    "This example shows a **generic product** that may not trigger extensive web search:"
   ]
  },
  {
   "cell_type": "code",
   "execution_count": 5,
   "metadata": {
    "execution": {
     "iopub.execute_input": "2025-08-01T15:57:59.902028Z",
     "iopub.status.busy": "2025-08-01T15:57:59.900050Z",
     "iopub.status.idle": "2025-08-01T15:58:19.592742Z",
     "shell.execute_reply": "2025-08-01T15:58:19.591678Z"
    }
   },
   "outputs": [
    {
     "name": "stdout",
     "output_type": "stream",
     "text": [
      "🔄 EXAMPLE 2: Generic Product Classification\n",
      "======================================================================\n",
      "Product: industrial metal component equipment part\n",
      "\n",
      "\n",
      "🚀 STARTING UNSPSC CLASSIFICATION CHAIN\n",
      "============================================================\n",
      "📝 Product: industrial metal component equipment part...\n",
      "============================================================\n",
      "\n",
      "🔍 STEP 1: Extracting Product Identifiers\n",
      "🧠 Intelligently extracting product identifiers with Snowflake LLM...\n"
     ]
    },
    {
     "name": "stdout",
     "output_type": "stream",
     "text": [
      "🔍 LLM Response: Here is the extracted information in JSON format:\n",
      "\n",
      "{\n",
      "\"brand_names\": [],\n",
      "\"model_numbers\": [],\n",
      "\"serial_numbers\": [],\n",
      "\"part_numbers\": [],\n",
      "\"manufacturer\": \"\",\n",
      "\"search_worthy_terms\": [\"industrial metal com...\n",
      "✅ Intelligent extraction completed:\n",
      "   📛 Brands: []\n",
      "   🔢 Models: []\n",
      "   🏷️ Serials: []\n",
      "   🎯 Key Identifiers: []\n",
      "   🌐 Search Worthy: ['industrial metal component', 'equipment part', 'metal equipment']\n",
      "   🏭 Manufacturer: \n",
      "   🎯 Overall Confidence: 80.0%\n",
      "\n",
      "🌐 STEP 2: Web Search Intelligence Gathering\n",
      "🌐 Using intelligent search terms:\n",
      "   • industrial metal component\n",
      "   • equipment part\n",
      "   • metal equipment\n",
      "🌐 Searching web for product information...\n",
      "   Search terms: ['industrial metal component', 'metal equipment', 'equipment part']...\n",
      "   🔍 Searching: industrial metal component\n"
     ]
    },
    {
     "name": "stdout",
     "output_type": "stream",
     "text": [
      "   🔍 Searching: metal equipment\n"
     ]
    },
    {
     "name": "stdout",
     "output_type": "stream",
     "text": [
      "   🔍 Searching: equipment part\n"
     ]
    },
    {
     "name": "stdout",
     "output_type": "stream",
     "text": [
      "✅ Web search completed\n",
      "   📄 Found 9 results\n",
      "\n",
      "📋 STEP 3: Creating Enhanced Product Summary\n",
      "📋 Creating enhanced product summary...\n",
      "✅ Enhanced product summary created\n",
      "   📝 Length: 140 characters\n",
      "\n",
      "🎯 STEP 4: Hierarchical UNSPSC Classification\n",
      "   🎯 Classifying Segment...\n",
      "🎯 Classifying UNSPSC Segment...\n",
      "📋 Using 58 available segments for classification\n"
     ]
    },
    {
     "name": "stdout",
     "output_type": "stream",
     "text": [
      "🔍 LLM Classification Response: Based on the product description, I would classify it into:\n",
      "\n",
      "{\n",
      "\"segment_code\": \"23\",\n",
      "\"segment_description\": \"Industrial Manufacturing and Processing Machinery and Accessories\",\n",
      "\"confidence\": \"High\"\n",
      "}\n",
      "...\n",
      "✅ Segment classified: 23 - Industrial Manufacturing and Processing Machinery and Accessories\n",
      "   ✅ Segment: 23 - Industrial Manufacturing and Processing Machinery and Accessories\n",
      "   🎯 Classifying Family...\n",
      "🎯 Classifying UNSPSC Family for segment 23...\n"
     ]
    },
    {
     "name": "stdout",
     "output_type": "stream",
     "text": [
      "✅ Loaded 20 families for segment 23\n",
      "🗄️ Family classifier loaded 20 families for segment 23\n",
      "📋 Using 20 available families for classification\n"
     ]
    },
    {
     "name": "stdout",
     "output_type": "stream",
     "text": [
      "🔍 Family LLM Response: Based on the product description, I would classify it into the following UNSPSC family in segment 23:\n",
      "\n",
      "{\n",
      "\"family_code\": \"2315\",\n",
      "\"family_description\": \"Industrial process machinery and equipment and su...\n",
      "✅ Family classified: 2315 - Industrial process machinery and equipment and supplies\n",
      "   ✅ Family: 2315 - Industrial process machinery and equipment and supplies\n",
      "   🎯 Classifying Class...\n",
      "🎯 Classifying UNSPSC Class for family 2315...\n"
     ]
    },
    {
     "name": "stdout",
     "output_type": "stream",
     "text": [
      "✅ Loaded 17 classes for family 2315\n",
      "🗄️ Class classifier loaded 17 classes for family 2315\n"
     ]
    },
    {
     "name": "stdout",
     "output_type": "stream",
     "text": [
      "🔍 LLM Classification Response: Here is the classification:\n",
      "\n",
      "{\n",
      "    \"class_code\": \"231531\",\n",
      "    \"class_description\": \"Industrial machinery components and accessories\",\n",
      "    \"confidence\": \"High\",\n",
      "    \"reasoning\": \"The product is descri...\n",
      "✅ Class classified: 231531 - Industrial machinery components and accessories\n",
      "   ✅ Class: 231531 - Industrial machinery components and accessories\n",
      "   🎯 Classifying Commodity...\n",
      "🎯 Classifying UNSPSC Commodity...\n"
     ]
    },
    {
     "name": "stdout",
     "output_type": "stream",
     "text": [
      "✅ Loaded 22 commodities for class 231531\n",
      "🗄️ Commodity classifier loaded 22 commodities for class 231531\n",
      "📋 Using 22 available commodities for classification\n"
     ]
    },
    {
     "name": "stdout",
     "output_type": "stream",
     "text": [
      "🔍 LLM Classification Response: Based on the product description, I would classify it into:\n",
      "\n",
      "{\n",
      "    \"commodity_code\": \"23153139\",\n",
      "    \"commodity_description\": \"Guide beds\",\n",
      "    \"confidence\": \"Low\"\n",
      "}\n",
      "\n",
      "The product description mentions ...\n"
     ]
    },
    {
     "name": "stdout",
     "output_type": "stream",
     "text": [
      "✅ Commodity classified with complete hierarchy: 23153139\n",
      "   🧠 Performing commodity reflection...\n",
      "   🧠 Low confidence, weak match - staying at class level\n",
      "   ⚠️ Reflection: No specific commodity match - staying at class level\n",
      "   🎯 Will return 8-digit class code: 23153100\n",
      "\n",
      "🏆 HIGHEST LEVEL ACHIEVED: 231531\n",
      "📋 Description: Industrial machinery components and accessories\n",
      "📊 Level: Class\n",
      "🎯 Confidence: Medium (Class level - low commodity confidence)\n",
      "🏆 COMPLETE 8-DIGIT CODE: 23153100\n",
      "   📝 Note: Class-level result padded to 8 digits (231531 + 00)\n",
      "\n",
      "🎯 COMPLETE UNSPSC HIERARCHY:\n",
      "==================================================\n",
      "🟦 SEGMENT   : 23 - Industrial Manufacturing and Processing Machinery and Accessories\n",
      "🟩 FAMILY    : 2315 - Industrial process machinery and equipment and supplies\n",
      "🟨 CLASS     : 231531 - Industrial machinery components and accessories\n",
      "==================================================\n",
      "🏆 COMPLETE CODE: 23153100\n",
      "\n",
      "✅ CLASSIFICATION CHAIN COMPLETED\n",
      "============================================================\n",
      "\n",
      "🏷️ PRODUCT: Example 2\n",
      "📝 Original: industrial metal component equipment part\n",
      "🔍 Enhanced: Product Description: industrial metal component equipment part | Industry Applications: industrial, manufacturing | Research Confidence: Low...\n",
      "============================================================\n",
      "🔧 EXTRACTED IDENTIFIERS:\n",
      "\n",
      "🌐 WEB SEARCH RESULTS:\n",
      "========================================\n",
      "🔍 Result 1:\n",
      "   Query: industrial metal component\n",
      "   Title: Industrial Metal Supply Co. | Metal Made Easy...\n",
      "   Snippet: Industrial Metal Supply stocks a broad range of metal materials , including aluminum, steel, stainless steel, copper and...\n",
      "   Source: https://www.industrialmetalsupply.com/\n",
      "\n",
      "🔍 Result 2:\n",
      "   Query: industrial metal component\n",
      "   Title: Integrated Metal Components, Inc: Your Single Source Solution...\n",
      "   Snippet: Integrated Metal Components, Inc. is a precision sheet metal manufacturing and engineering shop located just south of Po...\n",
      "   Source: https://www.imcmetals.com/\n",
      "\n",
      "🔍 Result 3:\n",
      "   Query: industrial metal component\n",
      "   Title: Metal Components - Engineering | Fabrication | Finishing ......\n",
      "   Snippet: Metal Components provides services for diverse markets including: Diagnostics, Electronic Equipment, Energy, Gaming & En...\n",
      "   Source: https://metalcomp.us/\n",
      "\n",
      "🎯 Applications: industrial, manufacturing\n",
      "\n",
      "🎯 SEGMENT CLASSIFICATION:\n",
      "========================================\n",
      "✅ Classified into Segment: 23\n",
      "📋 Description: Industrial Manufacturing and Processing Machinery and Accessories\n",
      "📊 Confidence: Not specified\n",
      "\n",
      "📊 HIERARCHY PROGRESSION:\n",
      "========================================\n",
      "   Segment: 23 - Industrial Manufacturing and Processing Machinery and Accessories\n",
      "   Family:  2315 - Industrial process machinery and equipment and supplies\n",
      "   Class:   231531 - Industrial machinery components and accessories\n",
      "\n",
      "🧠 REFLECTION DECISION:\n",
      "========================================\n",
      "   Final Level: CLASS\n",
      "   8-digit Code: 23153100\n",
      "   Confidence: Medium (Class level - low commodity confidence)\n",
      "   🔄 Used class level (padded) - commodity not specific enough\n",
      "\n",
      "📊 FINAL VALIDATION:\n",
      "   8-digit code: ✅\n",
      "   Min class level: ✅\n",
      "   Web search performed: ✅\n",
      "   Segment classified: ✅\n"
     ]
    }
   ],
   "source": [
    "# 🔄 Example 2: Generic product \n",
    "generic_product = \"industrial metal component equipment part\"\n",
    "\n",
    "print(\"🔄 EXAMPLE 2: Generic Product Classification\")\n",
    "print(\"=\" * 70)\n",
    "print(f\"Product: {generic_product}\")\n",
    "print()\n",
    "\n",
    "# Classify and show complete process\n",
    "result2 = classifier.classify_product(generic_product)\n",
    "print()\n",
    "display_complete_process(\"Example 2\", result2)\n",
    "\n",
    "print(\"📊 FINAL VALIDATION:\")\n",
    "print(f\"   8-digit code: {'✅' if len(result2.complete_unspsc_code) == 8 else '❌'}\")\n",
    "print(f\"   Min class level: {'✅' if result2.classification_level in ['class', 'commodity'] else '❌'}\")\n",
    "print(f\"   Web search performed: {'✅' if result2.web_search_results else 'Not needed'}\")\n",
    "print(f\"   Segment classified: {'✅' if result2.segment_code else '❌'}\")"
   ]
  },
  {
   "cell_type": "markdown",
   "metadata": {},
   "source": [
    "## 🎮 **Interactive Section: Test Your Products with Full Process View**\n",
    "\n",
    "### **🎯 MODIFY THE PRODUCTS BELOW TO SEE DETAILED PROCESSING:**"
   ]
  },
  {
   "cell_type": "code",
   "execution_count": 6,
   "metadata": {
    "execution": {
     "iopub.execute_input": "2025-08-01T15:58:19.597283Z",
     "iopub.status.busy": "2025-08-01T15:58:19.597039Z",
     "iopub.status.idle": "2025-08-01T15:59:19.603503Z",
     "shell.execute_reply": "2025-08-01T15:59:19.602663Z"
    }
   },
   "outputs": [
    {
     "name": "stdout",
     "output_type": "stream",
     "text": [
      "🎮 INTERACTIVE TESTING WITH FULL PROCESS VIEW\n",
      "======================================================================\n",
      "\n",
      "🔄 TESTING: Specific Branded Product\n",
      "==================================================\n",
      "\n",
      "🚀 STARTING UNSPSC CLASSIFICATION CHAIN\n",
      "============================================================\n",
      "📝 Product: Siemens S7-1200 CPU 1214C programmable logic controller...\n",
      "============================================================\n",
      "\n",
      "🔍 STEP 1: Extracting Product Identifiers\n",
      "🧠 Intelligently extracting product identifiers with Snowflake LLM...\n"
     ]
    },
    {
     "name": "stdout",
     "output_type": "stream",
     "text": [
      "🔍 LLM Response: Here is the extracted information in JSON format:\n",
      "\n",
      "```\n",
      "{\n",
      "    \"brand_names\": [\"Siemens\"],\n",
      "    \"model_numbers\": [\"S7-1200\", \"1214C\"],\n",
      "    \"serial_numbers\": [],\n",
      "    \"part_numbers\": [],\n",
      "    \"manufacturer\"...\n",
      "✅ Intelligent extraction completed:\n",
      "   📛 Brands: ['Siemens']\n",
      "   🔢 Models: ['S7-1200', '1214C']\n",
      "   🏷️ Serials: []\n",
      "   🎯 Key Identifiers: []\n",
      "   🌐 Search Worthy: ['Siemens S7-1200', 'programmable logic controller', 'PLC']\n",
      "   🏭 Manufacturer: Siemens\n",
      "   🎯 Overall Confidence: 80.0%\n",
      "\n",
      "🌐 STEP 2: Web Search Intelligence Gathering\n",
      "🌐 Using intelligent search terms:\n",
      "   • Siemens S7-1200\n",
      "   • programmable logic controller\n",
      "   • PLC\n",
      "🌐 Searching web for product information...\n",
      "   Search terms: ['programmable logic controller', 'Siemens S7-1200', 'Siemens 1214C']...\n",
      "   🔍 Searching: programmable logic controller\n"
     ]
    },
    {
     "name": "stdout",
     "output_type": "stream",
     "text": [
      "   🔍 Searching: Siemens S7-1200\n"
     ]
    },
    {
     "name": "stdout",
     "output_type": "stream",
     "text": [
      "   🔍 Searching: Siemens 1214C\n"
     ]
    },
    {
     "name": "stdout",
     "output_type": "stream",
     "text": [
      "✅ Web search completed\n",
      "   📄 Found 9 results\n",
      "   📂 Product category: controller\n",
      "\n",
      "📋 STEP 3: Creating Enhanced Product Summary\n",
      "📋 Creating enhanced product summary...\n",
      "✅ Enhanced product summary created\n",
      "   📝 Length: 281 characters\n",
      "\n",
      "🎯 STEP 4: Hierarchical UNSPSC Classification\n",
      "   🎯 Classifying Segment...\n",
      "🎯 Classifying UNSPSC Segment...\n",
      "📋 Using 58 available segments for classification\n"
     ]
    },
    {
     "name": "stdout",
     "output_type": "stream",
     "text": [
      "🔍 LLM Classification Response: Based on the product description, I would classify this product into:\n",
      "\n",
      "{\n",
      "\"segment_code\": \"23\",\n",
      "\"segment_description\": \"Industrial Manufacturing and Processing Machinery and Accessories\",\n",
      "\"confidence\":...\n",
      "✅ Segment classified: 23 - Industrial Manufacturing and Processing Machinery and Accessories\n",
      "   ✅ Segment: 23 - Industrial Manufacturing and Processing Machinery and Accessories\n",
      "   🎯 Classifying Family...\n",
      "🎯 Classifying UNSPSC Family for segment 23...\n",
      "📋 Using 20 available families for classification\n"
     ]
    },
    {
     "name": "stdout",
     "output_type": "stream",
     "text": [
      "🔍 Family LLM Response: Based on the product description, I would classify it into the following UNSPSC family in segment 23:\n",
      "\n",
      "{\n",
      "    \"family_code\": \"2315\",\n",
      "    \"family_description\": \"Industrial process machinery and equipmen...\n",
      "✅ Family classified: 2315 - Industrial process machinery and equipment and supplies\n",
      "   ✅ Family: 2315 - Industrial process machinery and equipment and supplies\n",
      "   🎯 Classifying Class...\n",
      "🎯 Classifying UNSPSC Class for family 2315...\n"
     ]
    },
    {
     "name": "stdout",
     "output_type": "stream",
     "text": [
      "🔍 LLM Classification Response: Here is the classification:\n",
      "\n",
      "{\n",
      "    \"class_code\": \"231532\",\n",
      "    \"class_description\": \"Robotics\",\n",
      "    \"confidence\": \"High\",\n",
      "    \"reasoning\": \"The product is a programmable logic controller (PLC) which i...\n",
      "✅ Class classified: 231532 - Robotics\n",
      "   ✅ Class: 231532 - Robotics\n",
      "   🎯 Classifying Commodity...\n",
      "🎯 Classifying UNSPSC Commodity...\n"
     ]
    },
    {
     "name": "stdout",
     "output_type": "stream",
     "text": [
      "✅ Loaded 7 commodities for class 231532\n",
      "🗄️ Commodity classifier loaded 7 commodities for class 231532\n",
      "📋 Using 7 available commodities for classification\n"
     ]
    },
    {
     "name": "stdout",
     "output_type": "stream",
     "text": [
      "🔍 LLM Classification Response: Based on the product description, I would classify the Siemens S7-1200 CPU 1214C programmable logic controller into the following UNSPSC commodity:\n",
      "\n",
      "{\n",
      "    \"commodity_code\": \"43211501\",\n",
      "    \"commodity_...\n",
      "⚠️ Commodity code 43211501 not found or doesn't belong to class 231532\n",
      "🔄 Using commodity fallback classification for class 231532...\n",
      "   🧠 Performing commodity reflection...\n",
      "   🧠 Low confidence, weak match - staying at class level\n",
      "   ⚠️ Reflection: No specific commodity match - staying at class level\n",
      "   🎯 Will return 8-digit class code: 23153200\n",
      "\n",
      "🏆 HIGHEST LEVEL ACHIEVED: 231532\n",
      "📋 Description: Robotics\n",
      "📊 Level: Class\n",
      "🎯 Confidence: Medium (Class level - low commodity confidence)\n",
      "🏆 COMPLETE 8-DIGIT CODE: 23153200\n",
      "   📝 Note: Class-level result padded to 8 digits (231532 + 00)\n",
      "\n",
      "🎯 COMPLETE UNSPSC HIERARCHY:\n",
      "==================================================\n",
      "🟦 SEGMENT   : 23 - Industrial Manufacturing and Processing Machinery and Accessories\n",
      "🟩 FAMILY    : 2315 - Industrial process machinery and equipment and supplies\n",
      "🟨 CLASS     : 231532 - Robotics\n",
      "==================================================\n",
      "🏆 COMPLETE CODE: 23153200\n",
      "\n",
      "✅ CLASSIFICATION CHAIN COMPLETED\n",
      "============================================================\n",
      "🏷️ PRODUCT: Specific Branded Product\n",
      "📝 Original: Siemens S7-1200 CPU 1214C programmable logic controller\n",
      "🔍 Enhanced: Product Description: Siemens S7-1200 CPU 1214C programmable logic controller | Manufacturer: Siemens | Brand(s): Siemens | Model Number(s): S7-1200, 1...\n",
      "============================================================\n",
      "🔧 EXTRACTED IDENTIFIERS:\n",
      "   🏢 Brands: Siemens\n",
      "   🔢 Models: S7-1200, 1214C\n",
      "   🏭 Manufacturer: Siemens\n",
      "\n",
      "🌐 WEB SEARCH RESULTS:\n",
      "========================================\n",
      "🔍 Result 1:\n",
      "   Query: programmable logic controller\n",
      "   Title: Programmable logic controller...\n",
      "   Snippet: A programmable logic controller (PLC) or programmable controller is an industrial computer that has been ruggedized and ...\n",
      "   Source: https://en.wikipedia.org/wiki/Programmable_logic_controller\n",
      "\n",
      "🔍 Result 2:\n",
      "   Query: programmable logic controller\n",
      "   Title: Programmable Logic Controller - Fast Product Comparison...\n",
      "   Snippet: globalspec.com has been visited by 10K+ users in the past month Search Thousands of Catalogs for Programmable Logic Cont...\n",
      "   Source: https://www.bing.com/aclick?ld=e8i6gOZKzAWGLJiSLI1znC_jVUCUxyu7pyc1FF5EnDu7o-nSC0xxAIdAUG6tFr4wUZgX3S1-Eumlv68YOgj31WxzPw2yfE9Ski6jJ3cpjPSYD2s06zrVU8g3N-BHt59z45UL6B0n7bsXYBjXK_Porp6O39cAUaEBk0oEHp62aZZ-X6kmkhQmhKT8mI-0AozhrwUmMGGg&u=aHR0cHMlM2ElMmYlMmZ3d3cuZ2xvYmFsc3BlYy5jb20lMmZQcm9kdWN0RmluZGVyJTJmZmluZHByb2R1Y3RzJTNmcXVlcnklM2Rwcm9ncmFtbWFibGUlMjUyMGxvZ2ljJTI1MjBjb250cm9sbGVyJTI2c2UlM2Rtc25wJTI2c2V0YWclM2RDT01QJTI2Y2lkJTNkcGFpZHNlYXJjaCUyNm1zY2xraWQlM2QxNGY3N2EzMGFkZDMxNTNkOTMwOTEyYmM0OWYyMDQyYg&rlid=14f77a30add3153d930912bc49f2042b\n",
      "\n",
      "🔍 Result 3:\n",
      "   Query: programmable logic controller\n",
      "   Title: Programmable Logic Controller - Programmable Logic Controls...\n",
      "   Snippet: thomasnet.com has been visited by 10K+ users in the past month Browse verified Programmable Logic Controllers companies ...\n",
      "   Source: https://www.bing.com/aclick?ld=e8XmXTcQsVRNCFuBjN-IGtezVUCUym3B6UHZXLfLBYwq7zg08DG3rF4HtT6YsoQ1P1Th_FSZiLfdIUF2l8pfn5I1TjXd7y1BGIZgDpGCweTEz6Q1utaGVASrIIGRy3SvIW1ZGKA15X_pie-aiZ_2iTVZU0Stbq5O5EXCB1ZkSRFKWUuT0-1_wVleyW1XSLPkqFphL5Rg&u=aHR0cHMlM2ElMmYlMmZ3d3cudGhvbWFzbmV0LmNvbSUyZnN1cHBsaWVycyUyZnVzYSUyZlByb2dyYW1tYWJsZS1Mb2dpYy1Db250cm9sbGVycy1QTEMtMTgxOTA5MDAlM2Zoc2FfYWNjJTNkMjYxMjc0NTk4OCUyNmhzYV9jYW0lM2Q3MTA3NjAxNzQlMjZoc2FfZ3JwJTNkMTI1Njc0MzEzODkxNDEyNSUyNmhzYV9hZCUzZCUyNmhzYV9zcmMlM2RvJTI2aHNhX3RndCUzZGt3ZC03ODU0NjgyNzY0ODM1OSUzYWxvYy0xOTAlMjZoc2Ffa3clM2Rwcm9ncmFtbWFibGUlMjUyMGxvZ2ljJTI1MjBjb250cm9sbGVyJTI2aHNhX210JTNkZSUyNmhzYV9uZXQlM2RhZHdvcmRzJTI2aHNhX3ZlciUzZDMlMjZtc2Nsa2lkJTNkODMyMDg0NTg0MDkzMWVlZDBiYzllY2Q0YTRiMjVlZWElMjZ1dG1fc291cmNlJTNkYmluZyUyNnV0bV9tZWRpdW0lM2RjcGMlMjZ1dG1fY2FtcGFpZ24lM2RQcm9ncmFtbWFibGUlMjUyMExvZ2ljJTI1MjBDb250cm9sbGVycyUyNTIwKFBMQyklMjZ1dG1fdGVybSUzZHByb2dyYW1tYWJsZSUyNTIwbG9naWMlMjUyMGNvbnRyb2xsZXIlMjZ1dG1fY29udGVudCUzZFByb2dyYW1tYWJsZSUyNTIwTG9naWMlMjUyMENvbnRyb2xsZXJzJTI1MjAoUExDKQ&rlid=8320845840931eed0bc9ecd4a4b25eea\n",
      "\n",
      "📋 Product Category: controller\n",
      "🎯 Applications: industrial, manufacturing, automotive, aerospace\n",
      "\n",
      "🎯 SEGMENT CLASSIFICATION:\n",
      "========================================\n",
      "✅ Classified into Segment: 23\n",
      "📋 Description: Industrial Manufacturing and Processing Machinery and Accessories\n",
      "📊 Confidence: Not specified\n",
      "\n",
      "📊 HIERARCHY PROGRESSION:\n",
      "========================================\n",
      "   Segment: 23 - Industrial Manufacturing and Processing Machinery and Accessories\n",
      "   Family:  2315 - Industrial process machinery and equipment and supplies\n",
      "   Class:   231532 - Robotics\n",
      "\n",
      "🧠 REFLECTION DECISION:\n",
      "========================================\n",
      "   Final Level: CLASS\n",
      "   8-digit Code: 23153200\n",
      "   Confidence: Medium (Class level - low commodity confidence)\n",
      "   🔄 Used class level (padded) - commodity not specific enough\n",
      "\n",
      "📊 Quick Summary for Specific Branded Product:\n",
      "   Web Search: Yes\n",
      "   Segment: 23 - Industrial Manufacturing and Processing Machinery and Accessories\n",
      "   Final Code: 23153200 (CLASS)\n",
      "----------------------------------------------------------------------\n"
     ]
    },
    {
     "name": "stdout",
     "output_type": "stream",
     "text": [
      "\n",
      "🔄 TESTING: Industrial Equipment\n",
      "==================================================\n",
      "\n",
      "🚀 STARTING UNSPSC CLASSIFICATION CHAIN\n",
      "============================================================\n",
      "📝 Product: ABB ACS550 variable frequency drive 5HP...\n",
      "============================================================\n",
      "\n",
      "🔍 STEP 1: Extracting Product Identifiers\n",
      "🧠 Intelligently extracting product identifiers with Snowflake LLM...\n"
     ]
    },
    {
     "name": "stdout",
     "output_type": "stream",
     "text": [
      "🔍 LLM Response: Here is the extracted information in JSON format:\n",
      "\n",
      "```\n",
      "{\n",
      "    \"brand_names\": [\"ABB\"],\n",
      "    \"model_numbers\": [\"ACS550\"],\n",
      "    \"serial_numbers\": [],\n",
      "    \"part_numbers\": [],\n",
      "    \"manufacturer\": \"ABB\",\n",
      "    \"...\n",
      "✅ Intelligent extraction completed:\n",
      "   📛 Brands: ['ABB']\n",
      "   🔢 Models: ['ACS550']\n",
      "   🏷️ Serials: []\n",
      "   🎯 Key Identifiers: []\n",
      "   🌐 Search Worthy: ['ACS550', 'variable frequency drive', '5HP']\n",
      "   🏭 Manufacturer: ABB\n",
      "   🎯 Overall Confidence: 80.0%\n",
      "\n",
      "🌐 STEP 2: Web Search Intelligence Gathering\n",
      "🌐 Using intelligent search terms:\n",
      "   • ACS550\n",
      "   • variable frequency drive\n",
      "   • 5HP\n",
      "🌐 Searching web for product information...\n",
      "   Search terms: ['variable frequency drive', 'ABB ACS550', 'ACS550']...\n",
      "   🔍 Searching: variable frequency drive\n"
     ]
    },
    {
     "name": "stdout",
     "output_type": "stream",
     "text": [
      "   🔍 Searching: ABB ACS550\n"
     ]
    },
    {
     "name": "stdout",
     "output_type": "stream",
     "text": [
      "   🔍 Searching: ACS550\n"
     ]
    },
    {
     "name": "stdout",
     "output_type": "stream",
     "text": [
      "✅ Web search completed\n",
      "   📄 Found 9 results\n",
      "   📂 Product category: pump\n",
      "\n",
      "📋 STEP 3: Creating Enhanced Product Summary\n",
      "📋 Creating enhanced product summary...\n",
      "✅ Enhanced product summary created\n",
      "   📝 Length: 259 characters\n",
      "\n",
      "🎯 STEP 4: Hierarchical UNSPSC Classification\n",
      "   🎯 Classifying Segment...\n",
      "🎯 Classifying UNSPSC Segment...\n",
      "📋 Using 58 available segments for classification\n"
     ]
    },
    {
     "name": "stdout",
     "output_type": "stream",
     "text": [
      "🔍 LLM Classification Response: Based on the product description, I would classify this product into the following UNSPSC segment:\n",
      "\n",
      "{\n",
      "\"segment_code\": \"40\",\n",
      "\"segment_description\": \"Distribution and Conditioning Systems\",\n",
      "\"confidence\"...\n",
      "✅ Segment classified: 40 - Distribution and Conditioning Systems and Equipment and Components\n",
      "   ✅ Segment: 40 - Distribution and Conditioning Systems and Equipment and Components\n",
      "   🎯 Classifying Family...\n",
      "🎯 Classifying UNSPSC Family for segment 40...\n",
      "📋 Using 6 available families for classification\n"
     ]
    },
    {
     "name": "stdout",
     "output_type": "stream",
     "text": [
      "🔍 Family LLM Response: The correct classification is:\n",
      "\n",
      "{\n",
      "\"family_code\": \"4015\",\n",
      "\"family_description\": \"Industrial pumps and compressors\",\n",
      "\"confidence\": \"High\"\n",
      "}\n",
      "\n",
      "The product is a variable frequency drive, which is often use...\n",
      "✅ Family classified: 4015 - Industrial pumps and compressors\n",
      "   ✅ Family: 4015 - Industrial pumps and compressors\n",
      "   🎯 Classifying Class...\n",
      "🎯 Classifying UNSPSC Class for family 4015...\n"
     ]
    },
    {
     "name": "stdout",
     "output_type": "stream",
     "text": [
      "🔍 LLM Classification Response: {\n",
      "\"class_code\": \"401517\",\n",
      "\"class_description\": \"Pump parts and accessories\",\n",
      "\"confidence\": \"Medium\",\n",
      "\"reasoning\": \"The product is a variable frequency drive, which is a component used to control the s...\n",
      "✅ Class classified: 401517 - Pump parts and accessories\n",
      "   ✅ Class: 401517 - Pump parts and accessories\n",
      "   🎯 Classifying Commodity...\n",
      "🎯 Classifying UNSPSC Commodity...\n"
     ]
    },
    {
     "name": "stdout",
     "output_type": "stream",
     "text": [
      "✅ Loaded 30 commodities for class 401517\n",
      "🗄️ Commodity classifier loaded 30 commodities for class 401517\n",
      "📋 Using 30 available commodities for classification\n"
     ]
    },
    {
     "name": "stdout",
     "output_type": "stream",
     "text": [
      "🔍 LLM Classification Response: Based on the product description, I would classify this product into the following UNSPSC commodity:\n",
      "\n",
      "{\n",
      "    \"commodity_code\": \"40151801\",\n",
      "    \"commodity_description\": \"Electric motors and motor drives...\n",
      "⚠️ Commodity code 40151801 not found or doesn't belong to class 401517\n",
      "🔄 Using commodity fallback classification for class 401517...\n",
      "   🧠 Performing commodity reflection...\n",
      "   🧠 Low confidence, weak match - staying at class level\n",
      "   ⚠️ Reflection: No specific commodity match - staying at class level\n",
      "   🎯 Will return 8-digit class code: 40151700\n",
      "\n",
      "🏆 HIGHEST LEVEL ACHIEVED: 401517\n",
      "📋 Description: Pump parts and accessories\n",
      "📊 Level: Class\n",
      "🎯 Confidence: Medium (Class level - low commodity confidence)\n",
      "🏆 COMPLETE 8-DIGIT CODE: 40151700\n",
      "   📝 Note: Class-level result padded to 8 digits (401517 + 00)\n",
      "\n",
      "🎯 COMPLETE UNSPSC HIERARCHY:\n",
      "==================================================\n",
      "🟦 SEGMENT   : 40 - Distribution and Conditioning Systems and Equipment and Components\n",
      "🟩 FAMILY    : 4015 - Industrial pumps and compressors\n",
      "🟨 CLASS     : 401517 - Pump parts and accessories\n",
      "==================================================\n",
      "🏆 COMPLETE CODE: 40151700\n",
      "\n",
      "✅ CLASSIFICATION CHAIN COMPLETED\n",
      "============================================================\n",
      "🏷️ PRODUCT: Industrial Equipment\n",
      "📝 Original: ABB ACS550 variable frequency drive 5HP\n",
      "🔍 Enhanced: Product Description: ABB ACS550 variable frequency drive 5HP | Manufacturer: ABB | Brand(s): ABB | Model Number(s): ACS550 | Web Research Category: pu...\n",
      "============================================================\n",
      "🔧 EXTRACTED IDENTIFIERS:\n",
      "   🏢 Brands: ABB\n",
      "   🔢 Models: ACS550\n",
      "   🏭 Manufacturer: ABB\n",
      "\n",
      "🌐 WEB SEARCH RESULTS:\n",
      "========================================\n",
      "🔍 Result 1:\n",
      "   Query: variable frequency drive\n",
      "   Title: Variable-frequency drive...\n",
      "   Snippet: A variable-frequency drive (VFD, or adjustable-frequency drive, adjustable-speed drive, variable-speed drive, AC drive, ...\n",
      "   Source: https://en.wikipedia.org/wiki/Variable-frequency_drive\n",
      "\n",
      "🔍 Result 2:\n",
      "   Query: variable frequency drive\n",
      "   Title: Danfoss What is a variable frequency drive? | Danfoss...\n",
      "   Snippet: Variable frequency drives (VFDs) are largely invisible, hidden in basements and electrical rooms , but nevertheless they...\n",
      "   Source: https://www.danfoss.com/en-us/about-danfoss/our-businesses/drives/what-is-a-variable-frequency-drive/\n",
      "\n",
      "🔍 Result 3:\n",
      "   Query: variable frequency drive\n",
      "   Title: Delta Variable Frequency Drives (VFDs)...\n",
      "   Snippet: Other names for a VFD are variable speed drive , adjustable speed drive, adjustable frequency drive, AC drive, microdriv...\n",
      "   Source: https://vfds.com/variable-frequency-drives\n",
      "\n",
      "📋 Product Category: pump\n",
      "🎯 Applications: industrial\n",
      "📏 Specifications: motor driven\n",
      "\n",
      "🎯 SEGMENT CLASSIFICATION:\n",
      "========================================\n",
      "✅ Classified into Segment: 40\n",
      "📋 Description: Distribution and Conditioning Systems and Equipment and Components\n",
      "📊 Confidence: Not specified\n",
      "\n",
      "📊 HIERARCHY PROGRESSION:\n",
      "========================================\n",
      "   Segment: 40 - Distribution and Conditioning Systems and Equipment and Components\n",
      "   Family:  4015 - Industrial pumps and compressors\n",
      "   Class:   401517 - Pump parts and accessories\n",
      "\n",
      "🧠 REFLECTION DECISION:\n",
      "========================================\n",
      "   Final Level: CLASS\n",
      "   8-digit Code: 40151700\n",
      "   Confidence: Medium (Class level - low commodity confidence)\n",
      "   🔄 Used class level (padded) - commodity not specific enough\n",
      "\n",
      "📊 Quick Summary for Industrial Equipment:\n",
      "   Web Search: Yes\n",
      "   Segment: 40 - Distribution and Conditioning Systems and Equipment and Components\n",
      "   Final Code: 40151700 (CLASS)\n",
      "----------------------------------------------------------------------\n"
     ]
    },
    {
     "name": "stdout",
     "output_type": "stream",
     "text": [
      "\n",
      "🔄 TESTING: Generic Description\n",
      "==================================================\n",
      "\n",
      "🚀 STARTING UNSPSC CLASSIFICATION CHAIN\n",
      "============================================================\n",
      "📝 Product: electronic control device industrial...\n",
      "============================================================\n",
      "\n",
      "🔍 STEP 1: Extracting Product Identifiers\n",
      "🧠 Intelligently extracting product identifiers with Snowflake LLM...\n"
     ]
    },
    {
     "name": "stdout",
     "output_type": "stream",
     "text": [
      "🔍 LLM Response: Here is the extracted information in JSON format:\n",
      "\n",
      "```\n",
      "{\n",
      "    \"brand_names\": [],\n",
      "    \"model_numbers\": [],\n",
      "    \"serial_numbers\": [],\n",
      "    \"part_numbers\": [],\n",
      "    \"manufacturer\": \"\",\n",
      "    \"search_worthy_te...\n",
      "✅ Intelligent extraction completed:\n",
      "   📛 Brands: []\n",
      "   🔢 Models: []\n",
      "   🏷️ Serials: []\n",
      "   🎯 Key Identifiers: []\n",
      "   🌐 Search Worthy: ['electronic control device', 'industrial control', 'control system']\n",
      "   🏭 Manufacturer: \n",
      "   🎯 Overall Confidence: 80.0%\n",
      "\n",
      "🌐 STEP 2: Web Search Intelligence Gathering\n",
      "🌐 Using intelligent search terms:\n",
      "   • electronic control device\n",
      "   • industrial control\n",
      "   • control system\n",
      "🌐 Searching web for product information...\n",
      "   Search terms: ['electronic control device', 'industrial control', 'control system']...\n",
      "   🔍 Searching: electronic control device\n"
     ]
    },
    {
     "name": "stdout",
     "output_type": "stream",
     "text": [
      "   🔍 Searching: industrial control\n"
     ]
    },
    {
     "name": "stdout",
     "output_type": "stream",
     "text": [
      "   🔍 Searching: control system\n"
     ]
    },
    {
     "name": "stdout",
     "output_type": "stream",
     "text": [
      "✅ Web search completed\n",
      "   📄 Found 9 results\n",
      "   📂 Product category: controller\n",
      "\n",
      "📋 STEP 3: Creating Enhanced Product Summary\n",
      "📋 Creating enhanced product summary...\n",
      "✅ Enhanced product summary created\n",
      "   📝 Length: 184 characters\n",
      "\n",
      "🎯 STEP 4: Hierarchical UNSPSC Classification\n",
      "   🎯 Classifying Segment...\n",
      "🎯 Classifying UNSPSC Segment...\n",
      "📋 Using 58 available segments for classification\n"
     ]
    },
    {
     "name": "stdout",
     "output_type": "stream",
     "text": [
      "🔍 LLM Classification Response: Based on the product description, I would classify it into:\n",
      "\n",
      "{\n",
      "\"segment_code\": \"32\",\n",
      "\"segment_description\": \"Electronic Components and Supplies\",\n",
      "\"confidence\": \"High\"\n",
      "}\n",
      "\n",
      "The product is an electronic c...\n",
      "✅ Segment classified: 32 - Electronic Components and Supplies\n",
      "   ✅ Segment: 32 - Electronic Components and Supplies\n",
      "   🎯 Classifying Family...\n",
      "🎯 Classifying UNSPSC Family for segment 32...\n"
     ]
    },
    {
     "name": "stdout",
     "output_type": "stream",
     "text": [
      "✅ Loaded 6 families for segment 32\n",
      "🗄️ Family classifier loaded 6 families for segment 32\n",
      "📋 Using 6 available families for classification\n"
     ]
    },
    {
     "name": "stdout",
     "output_type": "stream",
     "text": [
      "🔍 Family LLM Response: Based on the product description, I would classify it into the following UNSPSC family:\n",
      "\n",
      "{\n",
      "    \"family_code\": \"3215\",\n",
      "    \"family_description\": \"Automation control devices and components and accessori...\n",
      "✅ Family classified: 3215 - Automation control devices and components and accessories\n",
      "   ✅ Family: 3215 - Automation control devices and components and accessories\n",
      "   🎯 Classifying Class...\n",
      "🎯 Classifying UNSPSC Class for family 3215...\n"
     ]
    },
    {
     "name": "stdout",
     "output_type": "stream",
     "text": [
      "✅ Loaded 6 classes for family 3215\n",
      "🗄️ Class classifier loaded 6 classes for family 3215\n"
     ]
    },
    {
     "name": "stdout",
     "output_type": "stream",
     "text": [
      "🔍 LLM Classification Response: {\n",
      "\"class_code\": \"321517\",\n",
      "\"class_description\": \"Programmable Logic Controllers\",\n",
      "\"confidence\": \"High\",\n",
      "\"reasoning\": \"The product is described as an electronic control device for industrial use, which ...\n",
      "✅ Class classified: 321517 - Programmable Logic Controllers\n",
      "   ✅ Class: 321517 - Programmable Logic Controllers\n",
      "   🎯 Classifying Commodity...\n",
      "🎯 Classifying UNSPSC Commodity...\n"
     ]
    },
    {
     "name": "stdout",
     "output_type": "stream",
     "text": [
      "✅ Loaded 9 commodities for class 321517\n",
      "🗄️ Commodity classifier loaded 9 commodities for class 321517\n",
      "📋 Using 9 available commodities for classification\n"
     ]
    },
    {
     "name": "stdout",
     "output_type": "stream",
     "text": [
      "🔍 LLM Classification Response: Based on the product description, I would classify it into the following UNSPSC commodity:\n",
      "\n",
      "{\n",
      "    \"commodity_code\": \"32151705\",\n",
      "    \"commodity_description\": \"Programmable Logic Controller Module\",\n",
      "   ...\n"
     ]
    },
    {
     "name": "stdout",
     "output_type": "stream",
     "text": [
      "✅ Commodity classified with complete hierarchy: 32151705\n",
      "   🧠 Performing commodity reflection...\n",
      "   🧠 High confidence commodity match - using commodity level\n",
      "   ✅ Commodity: 32151705 - Programmable Logic Controller Module\n",
      "   🧠 Reflection: Using specific commodity (confidence: High)\n",
      "   🎯 Extracting complete hierarchy from commodity code...\n",
      "   🏆 COMPLETE 8-DIGIT HIERARCHY ACHIEVED!\n",
      "\n",
      "🏆 HIGHEST LEVEL ACHIEVED: 32151705\n",
      "📋 Description: Programmable Logic Controller Module\n",
      "📊 Level: Commodity\n",
      "🎯 Confidence: High\n",
      "🏆 COMPLETE 8-DIGIT CODE: 32151705\n",
      "   📝 Note: Full 8-digit commodity code achieved\n",
      "\n",
      "🎯 COMPLETE UNSPSC HIERARCHY:\n",
      "==================================================\n",
      "🟦 SEGMENT   : 32 - Electronic Components and Supplies\n",
      "🟩 FAMILY    : 3215 - Automation control devices and components and accessories\n",
      "🟨 CLASS     : 321517 - Programmable Logic Controllers\n",
      "🟧 COMMODITY : 32151705 - Programmable Logic Controller Module\n",
      "==================================================\n",
      "🏆 COMPLETE CODE: 32151705\n",
      "\n",
      "✅ CLASSIFICATION CHAIN COMPLETED\n",
      "============================================================\n",
      "🏷️ PRODUCT: Generic Description\n",
      "📝 Original: electronic control device industrial\n",
      "🔍 Enhanced: Product Description: electronic control device industrial | Web Research Category: controller | Industry Applications: industrial, manufacturing, auto...\n",
      "============================================================\n",
      "🔧 EXTRACTED IDENTIFIERS:\n",
      "\n",
      "🌐 WEB SEARCH RESULTS:\n",
      "========================================\n",
      "🔍 Result 1:\n",
      "   Query: electronic control device\n",
      "   Title: Electronic Control Device...\n",
      "   Snippet: An electroshock weapon is an incapacitating weapon. It delivers an electric shock aimed at temporarily disrupting muscle...\n",
      "   Source: https://en.wikipedia.org/wiki/Electronic_Control_Device\n",
      "\n",
      "🔍 Result 2:\n",
      "   Query: electronic control device\n",
      "   Title: Electronic control unit - Wikipedia...\n",
      "   Snippet: An electronic control unit, also known as an electronic control module, is an embedded system in automotive electronics ...\n",
      "   Source: https://en.wikipedia.org/wiki/Electronic_control_unit\n",
      "\n",
      "🔍 Result 3:\n",
      "   Query: electronic control device\n",
      "   Title: US7667971B2 - Electronic control device and... - Google Patents...\n",
      "   Snippet: Electronic control device and method of manufacturing electronic control device Download PDF....\n",
      "   Source: https://patents.google.com/patent/US7667971B2/en\n",
      "\n",
      "📋 Product Category: controller\n",
      "🎯 Applications: industrial, manufacturing, automotive\n",
      "\n",
      "🎯 SEGMENT CLASSIFICATION:\n",
      "========================================\n",
      "✅ Classified into Segment: 32\n",
      "📋 Description: Electronic Components and Supplies\n",
      "📊 Confidence: Not specified\n",
      "\n",
      "📊 HIERARCHY PROGRESSION:\n",
      "========================================\n",
      "   Segment: 32 - Electronic Components and Supplies\n",
      "   Family:  3215 - Automation control devices and components and accessories\n",
      "   Class:   321517 - Programmable Logic Controllers\n",
      "   Commodity: 32151705 - Programmable Logic Controller Module\n",
      "\n",
      "🧠 REFLECTION DECISION:\n",
      "========================================\n",
      "   Final Level: COMMODITY\n",
      "   8-digit Code: 32151705\n",
      "   Confidence: High\n",
      "   ✅ Used commodity level - specific match found\n",
      "\n",
      "📊 Quick Summary for Generic Description:\n",
      "   Web Search: Yes\n",
      "   Segment: 32 - Electronic Components and Supplies\n",
      "   Final Code: 32151705 (COMMODITY)\n",
      "----------------------------------------------------------------------\n"
     ]
    },
    {
     "name": "stdout",
     "output_type": "stream",
     "text": [
      "⏭️ Skipping placeholder: Your Custom Product\n",
      "   💡 Replace with your own product description to see full process\n",
      "\n",
      "⏭️ Skipping placeholder: Maintenance Item\n",
      "   💡 Replace with your own product description to see full process\n",
      "\n",
      "\n",
      "🎉 Interactive testing complete with full process details!\n"
     ]
    }
   ],
   "source": [
    "# 🎮 Test Your Own Products with Enhanced Display!\n",
    "# 👆 MODIFY THESE PRODUCTS TO TEST DIFFERENT SCENARIOS:\n",
    "\n",
    "YOUR_TEST_PRODUCTS = {\n",
    "    \"Specific Branded Product\": \"Siemens S7-1200 CPU 1214C programmable logic controller\",\n",
    "    \"Industrial Equipment\": \"ABB ACS550 variable frequency drive 5HP\",\n",
    "    \"Generic Description\": \"electronic control device industrial\",\n",
    "    \"Your Custom Product\": \"REPLACE WITH YOUR PRODUCT - try specific brands/models\",\n",
    "    \"Maintenance Item\": \"centrifugal pump impeller replacement part\"\n",
    "}\n",
    "\n",
    "print(\"🎮 INTERACTIVE TESTING WITH FULL PROCESS VIEW\")\n",
    "print(\"=\" * 70)\n",
    "\n",
    "for name, product in YOUR_TEST_PRODUCTS.items():\n",
    "    if \"REPLACE\" in product.upper():\n",
    "        print(f\"⏭️ Skipping placeholder: {name}\")\n",
    "        print(f\"   💡 Replace with your own product description to see full process\")\n",
    "        print()\n",
    "        continue\n",
    "        \n",
    "    print(f\"\\n🔄 TESTING: {name}\")\n",
    "    print(\"=\" * 50)\n",
    "    \n",
    "    result = classifier.classify_product(product)\n",
    "    display_complete_process(name, result)\n",
    "    \n",
    "    print(f\"📊 Quick Summary for {name}:\")\n",
    "    print(f\"   Web Search: {'Yes' if result.web_search_results else 'No'}\")\n",
    "    print(f\"   Segment: {result.segment_code} - {result.segment_description}\")\n",
    "    print(f\"   Final Code: {result.complete_unspsc_code} ({result.classification_level.upper()})\")\n",
    "    print(\"-\" * 70)\n",
    "    \n",
    "    time.sleep(1)  # Pause between tests for readability\n",
    "    \n",
    "print(\"\\n🎉 Interactive testing complete with full process details!\")"
   ]
  },
  {
   "cell_type": "markdown",
   "metadata": {},
   "source": [
    "## 📊 **Process Summary & Insights**\n",
    "\n",
    "### **🔍 What You've Observed:**\n",
    "\n",
    "- **🌐 Web Search Triggers:** Specific brands/models often trigger web search for enhanced context\n",
    "- **🎯 Segment Classification:** First critical step that determines the classification path\n",
    "- **📈 Hierarchy Progression:** Segment → Family → Class → Commodity (when possible)\n",
    "- **🧠 Reflection Logic:** Intelligent decisions between commodity vs class level\n",
    "- **✅ Consistent Output:** Always 8-digit codes, never below class level\n",
    "\n",
    "### **💡 Key Process Insights:**\n",
    "\n",
    "1. **Web Search Enhancement:** \n",
    "   - Triggered when product has identifiable brands/models\n",
    "   - Provides additional context for better classification\n",
    "   - May be skipped for generic descriptions\n",
    "\n",
    "2. **Segment Classification:**\n",
    "   - Critical first step that guides entire hierarchy\n",
    "   - Uses enhanced product summary (original + web data)\n",
    "   - Determines which families/classes are available\n",
    "\n",
    "3. **Reflection Decision:**\n",
    "   - High confidence commodity → Use 8-digit commodity code\n",
    "   - Low confidence commodity → Fall back to 8-digit class code\n",
    "   - Always maintains production-ready accuracy\n",
    "\n",
    "### **🚀 Production Implementation:**\n",
    "\n",
    "```python\n",
    "# Access all intermediate data:\n",
    "result = classifier.classify_product(\"your product\")\n",
    "\n",
    "# Web search data\n",
    "web_results = result.web_search_results\n",
    "\n",
    "# Segment classification\n",
    "segment = result.segment_code\n",
    "segment_desc = result.segment_description\n",
    "\n",
    "# Final classification\n",
    "final_code = result.complete_unspsc_code  # Always 8 digits\n",
    "level = result.classification_level       # \"commodity\" or \"class\"\n",
    "```"
   ]
  }
 ],
 "metadata": {
  "kernelspec": {
   "display_name": "Python 3",
   "language": "python",
   "name": "python3"
  },
  "language_info": {
   "codemirror_mode": {
    "name": "ipython",
    "version": 3
   },
   "file_extension": ".py",
   "mimetype": "text/x-python",
   "name": "python",
   "nbconvert_exporter": "python",
   "pygments_lexer": "ipython3",
   "version": "3.13.2"
  }
 },
 "nbformat": 4,
 "nbformat_minor": 4
}
